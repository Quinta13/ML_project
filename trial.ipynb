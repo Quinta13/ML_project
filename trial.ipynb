{
 "cells": [
  {
   "cell_type": "markdown",
   "source": [
    "# 1. Creating Datasets"
   ],
   "metadata": {
    "collapsed": false
   },
   "id": "1bc45e8572f0cf7d"
  },
  {
   "cell_type": "code",
   "execution_count": 1,
   "outputs": [],
   "source": [
    "from model.model import FreiHANDDataset, FreiHANDDataLoader\n",
    "from settings import TRAIN_NAME, VALIDATION_NAME\n",
    "from settings import BATCH_SIZE"
   ],
   "metadata": {
    "collapsed": false,
    "ExecuteTime": {
     "end_time": "2023-08-07T18:56:00.695105619Z",
     "start_time": "2023-08-07T18:55:59.425246483Z"
    }
   },
   "id": "c999499f1a78bcc1"
  },
  {
   "cell_type": "markdown",
   "source": [
    "Training set"
   ],
   "metadata": {
    "collapsed": false
   },
   "id": "6063006eaba226e3"
  },
  {
   "cell_type": "code",
   "execution_count": 2,
   "outputs": [
    {
     "data": {
      "text/plain": "FreiHAND [Training - 350 items]"
     },
     "execution_count": 2,
     "metadata": {},
     "output_type": "execute_result"
    }
   ],
   "source": [
    "train_dataset = FreiHANDDataset(set_type=TRAIN_NAME)\n",
    "train_dataset"
   ],
   "metadata": {
    "collapsed": false,
    "ExecuteTime": {
     "end_time": "2023-08-07T18:56:03.566195917Z",
     "start_time": "2023-08-07T18:56:02.176374506Z"
    }
   },
   "id": "3778cce7db1dd086"
  },
  {
   "cell_type": "code",
   "execution_count": 3,
   "outputs": [
    {
     "data": {
      "text/plain": "FreiHANDDataLoader [Training - Batch size: 10 - Length: 35]"
     },
     "execution_count": 3,
     "metadata": {},
     "output_type": "execute_result"
    }
   ],
   "source": [
    "train_dataloader = FreiHANDDataLoader(\n",
    "    dataset=train_dataset,\n",
    "    batch_size=BATCH_SIZE,\n",
    "    shuffle=True,\n",
    "    drop_last=True,\n",
    "    num_workers=2\n",
    ")\n",
    "train_dataloader"
   ],
   "metadata": {
    "collapsed": false,
    "ExecuteTime": {
     "end_time": "2023-08-07T18:56:06.478644693Z",
     "start_time": "2023-08-07T18:56:06.452995370Z"
    }
   },
   "id": "55ab1a3a91dfd298"
  },
  {
   "cell_type": "markdown",
   "source": [
    "Validation set"
   ],
   "metadata": {
    "collapsed": false
   },
   "id": "bfaf4648c2b1e18b"
  },
  {
   "cell_type": "code",
   "execution_count": 4,
   "outputs": [
    {
     "data": {
      "text/plain": "FreiHAND [Validation - 100 items]"
     },
     "execution_count": 4,
     "metadata": {},
     "output_type": "execute_result"
    }
   ],
   "source": [
    "val_dataset = FreiHANDDataset(set_type=VALIDATION_NAME)\n",
    "val_dataset"
   ],
   "metadata": {
    "collapsed": false,
    "ExecuteTime": {
     "end_time": "2023-08-07T18:56:17.924690402Z",
     "start_time": "2023-08-07T18:56:16.744774788Z"
    }
   },
   "id": "9dcdbd9a7171a79"
  },
  {
   "cell_type": "code",
   "execution_count": 5,
   "outputs": [
    {
     "data": {
      "text/plain": "FreiHANDDataLoader [Validation - Batch size: 10 - Length: 10]"
     },
     "execution_count": 5,
     "metadata": {},
     "output_type": "execute_result"
    }
   ],
   "source": [
    "val_dataloader = FreiHANDDataLoader(\n",
    "    dataset=val_dataset,\n",
    "    batch_size=BATCH_SIZE,\n",
    "    shuffle=True,\n",
    "    drop_last=True,\n",
    "    num_workers=2\n",
    ")\n",
    "val_dataloader"
   ],
   "metadata": {
    "collapsed": false,
    "ExecuteTime": {
     "end_time": "2023-08-07T18:56:19.341824066Z",
     "start_time": "2023-08-07T18:56:19.313691268Z"
    }
   },
   "id": "7ebae5ff1a8b5920"
  },
  {
   "cell_type": "markdown",
   "source": [
    "# 2. Models"
   ],
   "metadata": {
    "collapsed": false
   },
   "id": "5f16394363ce5759"
  },
  {
   "cell_type": "code",
   "execution_count": 6,
   "outputs": [],
   "source": [
    "from settings import DEVICE\n",
    "from model.model import ShallowUNet, IoULoss\n",
    "import torch.optim as optim\n",
    "\n",
    "model = ShallowUNet(3, 21)\n",
    "model = model.to(DEVICE)\n",
    "\n",
    "criterion = IoULoss()\n",
    "optimizer = optim.SGD(model.parameters(), lr=0.1)\n",
    "scheduler = optim.lr_scheduler.ReduceLROnPlateau(\n",
    "    optimizer=optimizer, factor=0.5, patience=20, verbose=True, threshold=0.00001\n",
    ")"
   ],
   "metadata": {
    "collapsed": false,
    "ExecuteTime": {
     "end_time": "2023-08-07T18:56:24.453540051Z",
     "start_time": "2023-08-07T18:56:24.420868779Z"
    }
   },
   "id": "c788aff4331a4445"
  },
  {
   "cell_type": "code",
   "execution_count": 7,
   "outputs": [
    {
     "name": "stdout",
     "output_type": "stream",
     "text": [
      "INFO: [2/35] - 5.71%\n",
      "INFO: [4/35] - 11.43%\n",
      "INFO: [2/10] - 20.00%\n",
      "Epoch: 1/500, Train Loss=0.9992471695, Val Loss=0.9992349446\n",
      "INFO: [2/35] - 5.71%\n",
      "INFO: [4/35] - 11.43%\n",
      "INFO: [2/10] - 20.00%\n",
      "Epoch: 2/500, Train Loss=0.9992489457, Val Loss=0.9992367029\n",
      "INFO: [2/35] - 5.71%\n",
      "INFO: [4/35] - 11.43%\n",
      "INFO: [2/10] - 20.00%\n",
      "Epoch: 3/500, Train Loss=0.9992460489, Val Loss=0.999238193\n",
      "INFO: [2/35] - 5.71%\n",
      "INFO: [4/35] - 11.43%\n",
      "INFO: [2/10] - 20.00%\n",
      "Epoch: 4/500, Train Loss=0.9992491007, Val Loss=0.9992376566\n",
      "INFO: [2/35] - 5.71%\n",
      "INFO: [4/35] - 11.43%\n",
      "INFO: [2/10] - 20.00%\n",
      "Epoch: 5/500, Train Loss=0.9992428422, Val Loss=0.9992401302\n",
      "INFO: [2/35] - 5.71%\n",
      "INFO: [4/35] - 11.43%\n",
      "INFO: [2/10] - 20.00%\n",
      "Epoch: 6/500, Train Loss=0.9992461562, Val Loss=0.9992368817\n",
      "INFO: [2/35] - 5.71%\n",
      "INFO: [4/35] - 11.43%\n",
      "INFO: [2/10] - 20.00%\n",
      "Epoch: 7/500, Train Loss=0.9992460012, Val Loss=0.9992411733\n",
      "INFO: [2/35] - 5.71%\n",
      "INFO: [4/35] - 11.43%\n",
      "INFO: [2/10] - 20.00%\n",
      "Epoch: 8/500, Train Loss=0.999249053, Val Loss=0.9992402792\n",
      "INFO: [2/35] - 5.71%\n",
      "INFO: [4/35] - 11.43%\n",
      "INFO: [2/10] - 20.00%\n",
      "Epoch: 9/500, Train Loss=0.9992458344, Val Loss=0.999239862\n",
      "INFO: [2/35] - 5.71%\n",
      "INFO: [4/35] - 11.43%\n",
      "INFO: [2/10] - 20.00%\n",
      "Epoch: 10/500, Train Loss=0.9992463827, Val Loss=0.9992406666\n",
      "INFO: [2/35] - 5.71%\n",
      "INFO: [4/35] - 11.43%\n",
      "INFO: [2/10] - 20.00%\n",
      "Epoch: 11/500, Train Loss=0.9992460012, Val Loss=0.999247551\n",
      "INFO: [2/35] - 5.71%\n",
      "INFO: [4/35] - 11.43%\n",
      "INFO: [2/10] - 20.00%\n",
      "Epoch: 12/500, Train Loss=0.9992459059, Val Loss=0.9992459118\n",
      "INFO: [2/35] - 5.71%\n",
      "INFO: [4/35] - 11.43%\n",
      "INFO: [2/10] - 20.00%\n",
      "Epoch: 13/500, Train Loss=0.9992451787, Val Loss=0.999248296\n",
      "INFO: [2/35] - 5.71%\n",
      "INFO: [4/35] - 11.43%\n",
      "INFO: [2/10] - 20.00%\n",
      "Epoch: 14/500, Train Loss=0.9992481232, Val Loss=0.999243319\n",
      "INFO: [2/35] - 5.71%\n",
      "INFO: [4/35] - 11.43%\n",
      "INFO: [2/10] - 20.00%\n",
      "Epoch: 15/500, Train Loss=0.9992414117, Val Loss=0.9992451668\n",
      "INFO: [2/35] - 5.71%\n",
      "INFO: [4/35] - 11.43%\n",
      "INFO: [2/10] - 20.00%\n",
      "Epoch: 16/500, Train Loss=0.9992443085, Val Loss=0.9992401302\n",
      "INFO: [2/35] - 5.71%\n",
      "INFO: [4/35] - 11.43%\n"
     ]
    },
    {
     "ename": "KeyboardInterrupt",
     "evalue": "",
     "output_type": "error",
     "traceback": [
      "\u001B[0;31m---------------------------------------------------------------------------\u001B[0m",
      "\u001B[0;31mKeyboardInterrupt\u001B[0m                         Traceback (most recent call last)",
      "Cell \u001B[0;32mIn[7], line 4\u001B[0m\n\u001B[1;32m      1\u001B[0m \u001B[38;5;28;01mfrom\u001B[39;00m \u001B[38;5;21;01mmodel\u001B[39;00m\u001B[38;5;21;01m.\u001B[39;00m\u001B[38;5;21;01mmodel\u001B[39;00m \u001B[38;5;28;01mimport\u001B[39;00m Trainer\n\u001B[1;32m      3\u001B[0m trainer \u001B[38;5;241m=\u001B[39m Trainer(model, criterion, optimizer, scheduler)\n\u001B[0;32m----> 4\u001B[0m model \u001B[38;5;241m=\u001B[39m \u001B[43mtrainer\u001B[49m\u001B[38;5;241;43m.\u001B[39;49m\u001B[43mtrain\u001B[49m\u001B[43m(\u001B[49m\u001B[43mtrain_dataloader\u001B[49m\u001B[43m,\u001B[49m\u001B[43m \u001B[49m\u001B[43mval_dataloader\u001B[49m\u001B[43m)\u001B[49m\n",
      "File \u001B[0;32m~/Documents/GitHub/ML_project/model/model.py:138\u001B[0m, in \u001B[0;36mTrainer.train\u001B[0;34m(self, train_dataloader, val_dataloader)\u001B[0m\n\u001B[1;32m    135\u001B[0m \u001B[38;5;28;01mdef\u001B[39;00m \u001B[38;5;21mtrain\u001B[39m(\u001B[38;5;28mself\u001B[39m, train_dataloader, val_dataloader):\n\u001B[1;32m    137\u001B[0m     \u001B[38;5;28;01mfor\u001B[39;00m epoch \u001B[38;5;129;01min\u001B[39;00m \u001B[38;5;28mrange\u001B[39m(\u001B[38;5;28mself\u001B[39m\u001B[38;5;241m.\u001B[39mepochs):\n\u001B[0;32m--> 138\u001B[0m         \u001B[38;5;28;43mself\u001B[39;49m\u001B[38;5;241;43m.\u001B[39;49m\u001B[43m_epoch_train\u001B[49m\u001B[43m(\u001B[49m\u001B[43mtrain_dataloader\u001B[49m\u001B[43m)\u001B[49m\n\u001B[1;32m    139\u001B[0m         \u001B[38;5;28mself\u001B[39m\u001B[38;5;241m.\u001B[39m_epoch_eval(val_dataloader)\n\u001B[1;32m    140\u001B[0m         \u001B[38;5;28mprint\u001B[39m(\n\u001B[1;32m    141\u001B[0m             \u001B[38;5;124m\"\u001B[39m\u001B[38;5;124mEpoch: \u001B[39m\u001B[38;5;132;01m{}\u001B[39;00m\u001B[38;5;124m/\u001B[39m\u001B[38;5;132;01m{}\u001B[39;00m\u001B[38;5;124m, Train Loss=\u001B[39m\u001B[38;5;132;01m{}\u001B[39;00m\u001B[38;5;124m, Val Loss=\u001B[39m\u001B[38;5;132;01m{}\u001B[39;00m\u001B[38;5;124m\"\u001B[39m\u001B[38;5;241m.\u001B[39mformat(\n\u001B[1;32m    142\u001B[0m                 epoch \u001B[38;5;241m+\u001B[39m \u001B[38;5;241m1\u001B[39m,\n\u001B[0;32m   (...)\u001B[0m\n\u001B[1;32m    146\u001B[0m             )\n\u001B[1;32m    147\u001B[0m         )\n",
      "File \u001B[0;32m~/Documents/GitHub/ML_project/model/model.py:196\u001B[0m, in \u001B[0;36mTrainer._epoch_train\u001B[0;34m(self, dataloader)\u001B[0m\n\u001B[1;32m    192\u001B[0m labels \u001B[38;5;241m=\u001B[39m data[\u001B[38;5;241m1\u001B[39m]\u001B[38;5;241m.\u001B[39mto(\u001B[38;5;28mself\u001B[39m\u001B[38;5;241m.\u001B[39mdevice)\n\u001B[1;32m    194\u001B[0m \u001B[38;5;28mself\u001B[39m\u001B[38;5;241m.\u001B[39moptimizer\u001B[38;5;241m.\u001B[39mzero_grad()\n\u001B[0;32m--> 196\u001B[0m outputs \u001B[38;5;241m=\u001B[39m \u001B[38;5;28;43mself\u001B[39;49m\u001B[38;5;241;43m.\u001B[39;49m\u001B[43mmodel\u001B[49m\u001B[43m(\u001B[49m\u001B[43minputs\u001B[49m\u001B[43m)\u001B[49m\n\u001B[1;32m    197\u001B[0m loss \u001B[38;5;241m=\u001B[39m \u001B[38;5;28mself\u001B[39m\u001B[38;5;241m.\u001B[39mcriterion(outputs, labels)\n\u001B[1;32m    198\u001B[0m loss\u001B[38;5;241m.\u001B[39mbackward()\n",
      "File \u001B[0;32m~/anaconda3/lib/python3.10/site-packages/torch/nn/modules/module.py:1130\u001B[0m, in \u001B[0;36mModule._call_impl\u001B[0;34m(self, *input, **kwargs)\u001B[0m\n\u001B[1;32m   1126\u001B[0m \u001B[38;5;66;03m# If we don't have any hooks, we want to skip the rest of the logic in\u001B[39;00m\n\u001B[1;32m   1127\u001B[0m \u001B[38;5;66;03m# this function, and just call forward.\u001B[39;00m\n\u001B[1;32m   1128\u001B[0m \u001B[38;5;28;01mif\u001B[39;00m \u001B[38;5;129;01mnot\u001B[39;00m (\u001B[38;5;28mself\u001B[39m\u001B[38;5;241m.\u001B[39m_backward_hooks \u001B[38;5;129;01mor\u001B[39;00m \u001B[38;5;28mself\u001B[39m\u001B[38;5;241m.\u001B[39m_forward_hooks \u001B[38;5;129;01mor\u001B[39;00m \u001B[38;5;28mself\u001B[39m\u001B[38;5;241m.\u001B[39m_forward_pre_hooks \u001B[38;5;129;01mor\u001B[39;00m _global_backward_hooks\n\u001B[1;32m   1129\u001B[0m         \u001B[38;5;129;01mor\u001B[39;00m _global_forward_hooks \u001B[38;5;129;01mor\u001B[39;00m _global_forward_pre_hooks):\n\u001B[0;32m-> 1130\u001B[0m     \u001B[38;5;28;01mreturn\u001B[39;00m \u001B[43mforward_call\u001B[49m\u001B[43m(\u001B[49m\u001B[38;5;241;43m*\u001B[39;49m\u001B[38;5;28;43minput\u001B[39;49m\u001B[43m,\u001B[49m\u001B[43m \u001B[49m\u001B[38;5;241;43m*\u001B[39;49m\u001B[38;5;241;43m*\u001B[39;49m\u001B[43mkwargs\u001B[49m\u001B[43m)\u001B[49m\n\u001B[1;32m   1131\u001B[0m \u001B[38;5;66;03m# Do not call functions when jit is used\u001B[39;00m\n\u001B[1;32m   1132\u001B[0m full_backward_hooks, non_full_backward_hooks \u001B[38;5;241m=\u001B[39m [], []\n",
      "File \u001B[0;32m~/Documents/GitHub/ML_project/model/model.py:288\u001B[0m, in \u001B[0;36mShallowUNet.forward\u001B[0;34m(self, x)\u001B[0m\n\u001B[1;32m    286\u001B[0m \u001B[38;5;28;01mdef\u001B[39;00m \u001B[38;5;21mforward\u001B[39m(\u001B[38;5;28mself\u001B[39m, x):\n\u001B[1;32m    287\u001B[0m     conv_d1 \u001B[38;5;241m=\u001B[39m \u001B[38;5;28mself\u001B[39m\u001B[38;5;241m.\u001B[39mconv_down1(x)\n\u001B[0;32m--> 288\u001B[0m     conv_d2 \u001B[38;5;241m=\u001B[39m \u001B[38;5;28mself\u001B[39m\u001B[38;5;241m.\u001B[39mconv_down2(\u001B[38;5;28;43mself\u001B[39;49m\u001B[38;5;241;43m.\u001B[39;49m\u001B[43mmaxpool\u001B[49m\u001B[43m(\u001B[49m\u001B[43mconv_d1\u001B[49m\u001B[43m)\u001B[49m)\n\u001B[1;32m    289\u001B[0m     conv_d3 \u001B[38;5;241m=\u001B[39m \u001B[38;5;28mself\u001B[39m\u001B[38;5;241m.\u001B[39mconv_down3(\u001B[38;5;28mself\u001B[39m\u001B[38;5;241m.\u001B[39mmaxpool(conv_d2))\n\u001B[1;32m    290\u001B[0m     conv_b \u001B[38;5;241m=\u001B[39m \u001B[38;5;28mself\u001B[39m\u001B[38;5;241m.\u001B[39mconv_bottleneck(\u001B[38;5;28mself\u001B[39m\u001B[38;5;241m.\u001B[39mmaxpool(conv_d3))\n",
      "File \u001B[0;32m~/anaconda3/lib/python3.10/site-packages/torch/nn/modules/module.py:1130\u001B[0m, in \u001B[0;36mModule._call_impl\u001B[0;34m(self, *input, **kwargs)\u001B[0m\n\u001B[1;32m   1126\u001B[0m \u001B[38;5;66;03m# If we don't have any hooks, we want to skip the rest of the logic in\u001B[39;00m\n\u001B[1;32m   1127\u001B[0m \u001B[38;5;66;03m# this function, and just call forward.\u001B[39;00m\n\u001B[1;32m   1128\u001B[0m \u001B[38;5;28;01mif\u001B[39;00m \u001B[38;5;129;01mnot\u001B[39;00m (\u001B[38;5;28mself\u001B[39m\u001B[38;5;241m.\u001B[39m_backward_hooks \u001B[38;5;129;01mor\u001B[39;00m \u001B[38;5;28mself\u001B[39m\u001B[38;5;241m.\u001B[39m_forward_hooks \u001B[38;5;129;01mor\u001B[39;00m \u001B[38;5;28mself\u001B[39m\u001B[38;5;241m.\u001B[39m_forward_pre_hooks \u001B[38;5;129;01mor\u001B[39;00m _global_backward_hooks\n\u001B[1;32m   1129\u001B[0m         \u001B[38;5;129;01mor\u001B[39;00m _global_forward_hooks \u001B[38;5;129;01mor\u001B[39;00m _global_forward_pre_hooks):\n\u001B[0;32m-> 1130\u001B[0m     \u001B[38;5;28;01mreturn\u001B[39;00m \u001B[43mforward_call\u001B[49m\u001B[43m(\u001B[49m\u001B[38;5;241;43m*\u001B[39;49m\u001B[38;5;28;43minput\u001B[39;49m\u001B[43m,\u001B[49m\u001B[43m \u001B[49m\u001B[38;5;241;43m*\u001B[39;49m\u001B[38;5;241;43m*\u001B[39;49m\u001B[43mkwargs\u001B[49m\u001B[43m)\u001B[49m\n\u001B[1;32m   1131\u001B[0m \u001B[38;5;66;03m# Do not call functions when jit is used\u001B[39;00m\n\u001B[1;32m   1132\u001B[0m full_backward_hooks, non_full_backward_hooks \u001B[38;5;241m=\u001B[39m [], []\n",
      "File \u001B[0;32m~/anaconda3/lib/python3.10/site-packages/torch/nn/modules/pooling.py:162\u001B[0m, in \u001B[0;36mMaxPool2d.forward\u001B[0;34m(self, input)\u001B[0m\n\u001B[1;32m    161\u001B[0m \u001B[38;5;28;01mdef\u001B[39;00m \u001B[38;5;21mforward\u001B[39m(\u001B[38;5;28mself\u001B[39m, \u001B[38;5;28minput\u001B[39m: Tensor):\n\u001B[0;32m--> 162\u001B[0m     \u001B[38;5;28;01mreturn\u001B[39;00m \u001B[43mF\u001B[49m\u001B[38;5;241;43m.\u001B[39;49m\u001B[43mmax_pool2d\u001B[49m\u001B[43m(\u001B[49m\u001B[38;5;28;43minput\u001B[39;49m\u001B[43m,\u001B[49m\u001B[43m \u001B[49m\u001B[38;5;28;43mself\u001B[39;49m\u001B[38;5;241;43m.\u001B[39;49m\u001B[43mkernel_size\u001B[49m\u001B[43m,\u001B[49m\u001B[43m \u001B[49m\u001B[38;5;28;43mself\u001B[39;49m\u001B[38;5;241;43m.\u001B[39;49m\u001B[43mstride\u001B[49m\u001B[43m,\u001B[49m\n\u001B[1;32m    163\u001B[0m \u001B[43m                        \u001B[49m\u001B[38;5;28;43mself\u001B[39;49m\u001B[38;5;241;43m.\u001B[39;49m\u001B[43mpadding\u001B[49m\u001B[43m,\u001B[49m\u001B[43m \u001B[49m\u001B[38;5;28;43mself\u001B[39;49m\u001B[38;5;241;43m.\u001B[39;49m\u001B[43mdilation\u001B[49m\u001B[43m,\u001B[49m\u001B[43m \u001B[49m\u001B[43mceil_mode\u001B[49m\u001B[38;5;241;43m=\u001B[39;49m\u001B[38;5;28;43mself\u001B[39;49m\u001B[38;5;241;43m.\u001B[39;49m\u001B[43mceil_mode\u001B[49m\u001B[43m,\u001B[49m\n\u001B[1;32m    164\u001B[0m \u001B[43m                        \u001B[49m\u001B[43mreturn_indices\u001B[49m\u001B[38;5;241;43m=\u001B[39;49m\u001B[38;5;28;43mself\u001B[39;49m\u001B[38;5;241;43m.\u001B[39;49m\u001B[43mreturn_indices\u001B[49m\u001B[43m)\u001B[49m\n",
      "File \u001B[0;32m~/anaconda3/lib/python3.10/site-packages/torch/_jit_internal.py:423\u001B[0m, in \u001B[0;36mboolean_dispatch.<locals>.fn\u001B[0;34m(*args, **kwargs)\u001B[0m\n\u001B[1;32m    421\u001B[0m     \u001B[38;5;28;01mreturn\u001B[39;00m if_true(\u001B[38;5;241m*\u001B[39margs, \u001B[38;5;241m*\u001B[39m\u001B[38;5;241m*\u001B[39mkwargs)\n\u001B[1;32m    422\u001B[0m \u001B[38;5;28;01melse\u001B[39;00m:\n\u001B[0;32m--> 423\u001B[0m     \u001B[38;5;28;01mreturn\u001B[39;00m \u001B[43mif_false\u001B[49m\u001B[43m(\u001B[49m\u001B[38;5;241;43m*\u001B[39;49m\u001B[43margs\u001B[49m\u001B[43m,\u001B[49m\u001B[43m \u001B[49m\u001B[38;5;241;43m*\u001B[39;49m\u001B[38;5;241;43m*\u001B[39;49m\u001B[43mkwargs\u001B[49m\u001B[43m)\u001B[49m\n",
      "File \u001B[0;32m~/anaconda3/lib/python3.10/site-packages/torch/nn/functional.py:782\u001B[0m, in \u001B[0;36m_max_pool2d\u001B[0;34m(input, kernel_size, stride, padding, dilation, ceil_mode, return_indices)\u001B[0m\n\u001B[1;32m    780\u001B[0m \u001B[38;5;28;01mif\u001B[39;00m stride \u001B[38;5;129;01mis\u001B[39;00m \u001B[38;5;28;01mNone\u001B[39;00m:\n\u001B[1;32m    781\u001B[0m     stride \u001B[38;5;241m=\u001B[39m torch\u001B[38;5;241m.\u001B[39mjit\u001B[38;5;241m.\u001B[39mannotate(List[\u001B[38;5;28mint\u001B[39m], [])\n\u001B[0;32m--> 782\u001B[0m \u001B[38;5;28;01mreturn\u001B[39;00m \u001B[43mtorch\u001B[49m\u001B[38;5;241;43m.\u001B[39;49m\u001B[43mmax_pool2d\u001B[49m\u001B[43m(\u001B[49m\u001B[38;5;28;43minput\u001B[39;49m\u001B[43m,\u001B[49m\u001B[43m \u001B[49m\u001B[43mkernel_size\u001B[49m\u001B[43m,\u001B[49m\u001B[43m \u001B[49m\u001B[43mstride\u001B[49m\u001B[43m,\u001B[49m\u001B[43m \u001B[49m\u001B[43mpadding\u001B[49m\u001B[43m,\u001B[49m\u001B[43m \u001B[49m\u001B[43mdilation\u001B[49m\u001B[43m,\u001B[49m\u001B[43m \u001B[49m\u001B[43mceil_mode\u001B[49m\u001B[43m)\u001B[49m\n",
      "\u001B[0;31mKeyboardInterrupt\u001B[0m: "
     ]
    }
   ],
   "source": [
    "from model.model import Trainer\n",
    "\n",
    "trainer = Trainer(model, criterion, optimizer, scheduler)\n",
    "model = trainer.train(train_dataloader, val_dataloader)"
   ],
   "metadata": {
    "collapsed": false,
    "ExecuteTime": {
     "end_time": "2023-08-07T18:58:00.945751985Z",
     "start_time": "2023-08-07T18:56:25.274637917Z"
    }
   },
   "id": "dbb2336913090e85"
  },
  {
   "cell_type": "code",
   "execution_count": null,
   "outputs": [],
   "source": [],
   "metadata": {
    "collapsed": false
   },
   "id": "3d697ea155f8af37"
  }
 ],
 "metadata": {
  "kernelspec": {
   "display_name": "Python 3",
   "language": "python",
   "name": "python3"
  },
  "language_info": {
   "codemirror_mode": {
    "name": "ipython",
    "version": 2
   },
   "file_extension": ".py",
   "mimetype": "text/x-python",
   "name": "python",
   "nbconvert_exporter": "python",
   "pygments_lexer": "ipython2",
   "version": "2.7.6"
  }
 },
 "nbformat": 4,
 "nbformat_minor": 5
}
