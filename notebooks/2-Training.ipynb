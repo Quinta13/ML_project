{
 "cells": [
  {
   "cell_type": "markdown",
   "source": [
    "# 1. Creating Datasets"
   ],
   "metadata": {
    "collapsed": false
   },
   "id": "1bc45e8572f0cf7d"
  },
  {
   "cell_type": "code",
   "execution_count": 1,
   "outputs": [],
   "source": [
    "from settings import TRAIN_NAME, VALIDATION_NAME, BATCH_SIZE"
   ],
   "metadata": {
    "collapsed": false,
    "ExecuteTime": {
     "end_time": "2023-08-09T20:41:09.229139766Z",
     "start_time": "2023-08-09T20:41:08.197020904Z"
    }
   },
   "id": "3f6af299f63f4d58"
  },
  {
   "cell_type": "code",
   "execution_count": 2,
   "outputs": [],
   "source": [
    "from model.dataset import FreiHANDDataset, FreiHANDDataLoader"
   ],
   "metadata": {
    "collapsed": false,
    "ExecuteTime": {
     "end_time": "2023-08-09T20:41:09.879425360Z",
     "start_time": "2023-08-09T20:41:09.223850044Z"
    }
   },
   "id": "b76eb7cbce0132db"
  },
  {
   "cell_type": "markdown",
   "source": [
    "Training set"
   ],
   "metadata": {
    "collapsed": false
   },
   "id": "6063006eaba226e3"
  },
  {
   "cell_type": "code",
   "execution_count": 3,
   "outputs": [
    {
     "data": {
      "text/plain": "FreiHAND [Training - 26000 items]"
     },
     "execution_count": 3,
     "metadata": {},
     "output_type": "execute_result"
    }
   ],
   "source": [
    "train_dataset = FreiHANDDataset(set_type=TRAIN_NAME)\n",
    "train_dataset"
   ],
   "metadata": {
    "collapsed": false,
    "ExecuteTime": {
     "end_time": "2023-08-09T20:41:11.567725949Z",
     "start_time": "2023-08-09T20:41:09.876514273Z"
    }
   },
   "id": "3778cce7db1dd086"
  },
  {
   "cell_type": "code",
   "execution_count": 4,
   "outputs": [
    {
     "data": {
      "text/plain": "FreiHANDDataLoader [Training - Batch size: 48 - Length: 541]"
     },
     "execution_count": 4,
     "metadata": {},
     "output_type": "execute_result"
    }
   ],
   "source": [
    "train_dataloader = FreiHANDDataLoader(\n",
    "    dataset=train_dataset,\n",
    "    batch_size=BATCH_SIZE,\n",
    "    shuffle=True,\n",
    "    drop_last=True,\n",
    "    num_workers=2\n",
    ")\n",
    "train_dataloader"
   ],
   "metadata": {
    "collapsed": false,
    "ExecuteTime": {
     "end_time": "2023-08-09T20:41:11.575831777Z",
     "start_time": "2023-08-09T20:41:11.567363748Z"
    }
   },
   "id": "55ab1a3a91dfd298"
  },
  {
   "cell_type": "markdown",
   "source": [
    "Validation set"
   ],
   "metadata": {
    "collapsed": false
   },
   "id": "bfaf4648c2b1e18b"
  },
  {
   "cell_type": "code",
   "execution_count": 5,
   "outputs": [
    {
     "data": {
      "text/plain": "FreiHAND [Validation - 5000 items]"
     },
     "execution_count": 5,
     "metadata": {},
     "output_type": "execute_result"
    }
   ],
   "source": [
    "val_dataset = FreiHANDDataset(set_type=VALIDATION_NAME)\n",
    "val_dataset"
   ],
   "metadata": {
    "collapsed": false,
    "ExecuteTime": {
     "end_time": "2023-08-09T20:41:13.047838398Z",
     "start_time": "2023-08-09T20:41:11.574589420Z"
    }
   },
   "id": "9dcdbd9a7171a79"
  },
  {
   "cell_type": "code",
   "execution_count": 6,
   "outputs": [
    {
     "data": {
      "text/plain": "FreiHANDDataLoader [Validation - Batch size: 48 - Length: 104]"
     },
     "execution_count": 6,
     "metadata": {},
     "output_type": "execute_result"
    }
   ],
   "source": [
    "val_dataloader = FreiHANDDataLoader(\n",
    "    dataset=val_dataset,\n",
    "    batch_size=BATCH_SIZE,\n",
    "    shuffle=True,\n",
    "    drop_last=True,\n",
    "    num_workers=2\n",
    ")\n",
    "val_dataloader"
   ],
   "metadata": {
    "collapsed": false,
    "ExecuteTime": {
     "end_time": "2023-08-09T20:41:13.065665690Z",
     "start_time": "2023-08-09T20:41:13.044325240Z"
    }
   },
   "id": "7ebae5ff1a8b5920"
  },
  {
   "cell_type": "markdown",
   "source": [
    "# 2. Models"
   ],
   "metadata": {
    "collapsed": false
   },
   "id": "5f16394363ce5759"
  },
  {
   "cell_type": "code",
   "execution_count": 7,
   "outputs": [],
   "source": [
    "from settings import DEVICE, N_EPOCHS, BATCHES_PER_EPOCH, BATCHES_PER_EPOCH_VAL, LEARNING_RATE"
   ],
   "metadata": {
    "collapsed": false,
    "ExecuteTime": {
     "end_time": "2023-08-09T20:41:13.116484033Z",
     "start_time": "2023-08-09T20:41:13.056905618Z"
    }
   },
   "id": "63ac6a25a06fd499"
  },
  {
   "cell_type": "markdown",
   "source": [
    "Creating the ANN:"
   ],
   "metadata": {
    "collapsed": false
   },
   "id": "b694cb1668e9a822"
  },
  {
   "cell_type": "code",
   "execution_count": 8,
   "outputs": [],
   "source": [
    "from model.network import ShallowUNet"
   ],
   "metadata": {
    "collapsed": false,
    "ExecuteTime": {
     "end_time": "2023-08-09T20:41:13.144032973Z",
     "start_time": "2023-08-09T20:41:13.066254784Z"
    }
   },
   "id": "d4570ce592adccd8"
  },
  {
   "cell_type": "code",
   "execution_count": 9,
   "outputs": [],
   "source": [
    "model = ShallowUNet(in_channel=3, out_channel=21)\n",
    "model = model.to(DEVICE)"
   ],
   "metadata": {
    "collapsed": false,
    "ExecuteTime": {
     "end_time": "2023-08-09T20:41:13.179294951Z",
     "start_time": "2023-08-09T20:41:13.077229576Z"
    }
   },
   "id": "9010a0423dfd393c"
  },
  {
   "cell_type": "markdown",
   "source": [
    "Creating the loss criterion"
   ],
   "metadata": {
    "collapsed": false
   },
   "id": "4c782903c6873f57"
  },
  {
   "cell_type": "code",
   "execution_count": 10,
   "outputs": [],
   "source": [
    "from model.network import IoULoss"
   ],
   "metadata": {
    "collapsed": false,
    "ExecuteTime": {
     "end_time": "2023-08-09T20:41:13.179957041Z",
     "start_time": "2023-08-09T20:41:13.119814758Z"
    }
   },
   "id": "47d056a170c4f30c"
  },
  {
   "cell_type": "code",
   "execution_count": 11,
   "outputs": [
    {
     "data": {
      "text/plain": "IoULoss"
     },
     "execution_count": 11,
     "metadata": {},
     "output_type": "execute_result"
    }
   ],
   "source": [
    "criterion = IoULoss()\n",
    "criterion"
   ],
   "metadata": {
    "collapsed": false,
    "ExecuteTime": {
     "end_time": "2023-08-09T20:41:13.180599855Z",
     "start_time": "2023-08-09T20:41:13.120113462Z"
    }
   },
   "id": "f479ca622aff8c54"
  },
  {
   "cell_type": "markdown",
   "source": [
    "Creating the optimizer"
   ],
   "metadata": {
    "collapsed": false
   },
   "id": "dfae5fb5eeb557a7"
  },
  {
   "cell_type": "code",
   "execution_count": 12,
   "outputs": [],
   "source": [
    "import torch.optim as optim"
   ],
   "metadata": {
    "collapsed": false,
    "ExecuteTime": {
     "end_time": "2023-08-09T20:41:13.267730588Z",
     "start_time": "2023-08-09T20:41:13.120335908Z"
    }
   },
   "id": "ebc0a8f278512da6"
  },
  {
   "cell_type": "code",
   "execution_count": 13,
   "outputs": [
    {
     "data": {
      "text/plain": "SGD (\nParameter Group 0\n    dampening: 0\n    foreach: None\n    lr: 0.1\n    maximize: False\n    momentum: 0\n    nesterov: False\n    weight_decay: 0\n)"
     },
     "execution_count": 13,
     "metadata": {},
     "output_type": "execute_result"
    }
   ],
   "source": [
    "optimizer = optim.SGD(params=model.parameters(), lr=LEARNING_RATE)\n",
    "optimizer"
   ],
   "metadata": {
    "collapsed": false,
    "ExecuteTime": {
     "end_time": "2023-08-09T20:41:13.346097844Z",
     "start_time": "2023-08-09T20:41:13.163856012Z"
    }
   },
   "id": "ca4b761d203cd96a"
  },
  {
   "cell_type": "markdown",
   "source": [
    "Creating the scheduler"
   ],
   "metadata": {
    "collapsed": false
   },
   "id": "d6b4f394f0ed4ce0"
  },
  {
   "cell_type": "code",
   "execution_count": 14,
   "outputs": [
    {
     "data": {
      "text/plain": "<torch.optim.lr_scheduler.ReduceLROnPlateau at 0x7fb9550bd930>"
     },
     "execution_count": 14,
     "metadata": {},
     "output_type": "execute_result"
    }
   ],
   "source": [
    "scheduler = optim.lr_scheduler.ReduceLROnPlateau(\n",
    "    optimizer=optimizer, factor=0.5, patience=20, verbose=True, threshold=0.00001\n",
    ")\n",
    "scheduler"
   ],
   "metadata": {
    "collapsed": false,
    "ExecuteTime": {
     "end_time": "2023-08-09T20:41:13.346964183Z",
     "start_time": "2023-08-09T20:41:13.164144514Z"
    }
   },
   "id": "c788aff4331a4445"
  },
  {
   "cell_type": "markdown",
   "source": [
    "# 3. Training"
   ],
   "metadata": {
    "collapsed": false
   },
   "id": "5c885bf69f84e74e"
  },
  {
   "cell_type": "code",
   "execution_count": 15,
   "outputs": [
    {
     "data": {
      "text/plain": "Trainer [Epochs: 1000; Batches per Epoch: 50; Batches per Epoch Validation: 20]"
     },
     "execution_count": 15,
     "metadata": {},
     "output_type": "execute_result"
    }
   ],
   "source": [
    "from model.trainer import Trainer\n",
    "\n",
    "trainer = Trainer(\n",
    "    model=model,\n",
    "    criterion=criterion,\n",
    "    optimizer=optimizer,\n",
    "    epochs=N_EPOCHS,\n",
    "    batches_per_epoch=BATCHES_PER_EPOCH,\n",
    "    batches_per_epoch_val=BATCHES_PER_EPOCH_VAL,\n",
    "    scheduler=scheduler\n",
    ")\n",
    "trainer"
   ],
   "metadata": {
    "collapsed": false,
    "ExecuteTime": {
     "end_time": "2023-08-09T20:41:13.347648456Z",
     "start_time": "2023-08-09T20:41:13.164374324Z"
    }
   },
   "id": "5948e9e45df16869"
  },
  {
   "cell_type": "code",
   "execution_count": 16,
   "outputs": [
    {
     "name": "stdout",
     "output_type": "stream",
     "text": [
      "Epoch: 1/1000, Train Loss=0.9928547296, Val Loss=0.9928204332\n",
      "Epoch: 2/1000, Train Loss=0.9927531247, Val Loss=0.9926921158\n",
      "Epoch: 3/1000, Train Loss=0.9926331604, Val Loss=0.9925618314\n",
      "Epoch: 4/1000, Train Loss=0.9924837316, Val Loss=0.9924031666\n",
      "Epoch: 5/1000, Train Loss=0.9922934607, Val Loss=0.9921426404\n",
      "Epoch: 6/1000, Train Loss=0.9920482495, Val Loss=0.991902323\n",
      "Epoch: 7/1000, Train Loss=0.9917168816, Val Loss=0.9914500344\n",
      "Epoch: 8/1000, Train Loss=0.991241101, Val Loss=0.9907445283\n",
      "Epoch: 9/1000, Train Loss=0.990507785, Val Loss=0.9898691035\n",
      "Epoch: 10/1000, Train Loss=0.9892913839, Val Loss=0.9882430491\n",
      "Epoch: 11/1000, Train Loss=0.9870085962, Val Loss=0.9854173774\n",
      "Epoch: 12/1000, Train Loss=0.9822430879, Val Loss=0.9781923266\n",
      "Epoch: 13/1000, Train Loss=0.9672364184, Val Loss=0.9487301395\n",
      "Epoch: 14/1000, Train Loss=0.9168626292, Val Loss=0.8838380632\n",
      "Epoch: 15/1000, Train Loss=0.8640363731, Val Loss=0.846518491\n",
      "Epoch: 16/1000, Train Loss=0.8378149411, Val Loss=0.8196681142\n",
      "Epoch: 17/1000, Train Loss=0.8115556556, Val Loss=0.7942159176\n",
      "Epoch: 18/1000, Train Loss=0.7922311928, Val Loss=0.7908341062\n",
      "Epoch: 19/1000, Train Loss=0.771986474, Val Loss=0.7521310818\n",
      "Epoch: 20/1000, Train Loss=0.7593314484, Val Loss=0.78170207\n",
      "Epoch: 21/1000, Train Loss=0.748703883, Val Loss=0.7576922604\n",
      "Epoch: 22/1000, Train Loss=0.7361226479, Val Loss=0.7642408297\n",
      "Epoch: 23/1000, Train Loss=0.729185746, Val Loss=0.7221012257\n",
      "Epoch: 24/1000, Train Loss=0.7230896891, Val Loss=0.7097395233\n",
      "Epoch: 25/1000, Train Loss=0.7073103119, Val Loss=0.7160167609\n",
      "Epoch: 26/1000, Train Loss=0.698867321, Val Loss=0.693840305\n",
      "Epoch: 27/1000, Train Loss=0.6932854337, Val Loss=0.6977044628\n",
      "Epoch: 28/1000, Train Loss=0.6840937547, Val Loss=0.7183458805\n",
      "Epoch: 29/1000, Train Loss=0.677086199, Val Loss=0.694518129\n",
      "Epoch: 30/1000, Train Loss=0.6700309632, Val Loss=0.6855113506\n",
      "Epoch: 31/1000, Train Loss=0.667962883, Val Loss=0.6813334312\n",
      "Epoch: 32/1000, Train Loss=0.6587780469, Val Loss=0.6978181402\n",
      "Epoch: 33/1000, Train Loss=0.6561633243, Val Loss=0.6646916724\n",
      "Epoch: 34/1000, Train Loss=0.6514262919, Val Loss=0.6945290565\n",
      "Epoch: 35/1000, Train Loss=0.6511363831, Val Loss=0.6510919333\n",
      "Epoch: 36/1000, Train Loss=0.6423423033, Val Loss=0.6366618332\n",
      "Epoch: 37/1000, Train Loss=0.6322556383, Val Loss=0.6633955496\n",
      "Epoch: 38/1000, Train Loss=0.6302996149, Val Loss=0.6593730223\n",
      "Epoch: 39/1000, Train Loss=0.6291163844, Val Loss=0.6436980225\n",
      "Epoch: 40/1000, Train Loss=0.6261999128, Val Loss=0.6226536092\n",
      "Epoch: 41/1000, Train Loss=0.6177397674, Val Loss=0.6469049851\n",
      "Epoch: 42/1000, Train Loss=0.6182143805, Val Loss=0.6396500099\n",
      "Epoch: 43/1000, Train Loss=0.6143248654, Val Loss=0.6228012187\n",
      "Epoch: 44/1000, Train Loss=0.6011074267, Val Loss=0.6214061748\n",
      "Epoch: 45/1000, Train Loss=0.6078709983, Val Loss=0.662402979\n",
      "Epoch: 46/1000, Train Loss=0.599769154, Val Loss=0.6285486363\n",
      "Epoch: 47/1000, Train Loss=0.5986433134, Val Loss=0.5952367697\n",
      "Epoch: 48/1000, Train Loss=0.594968562, Val Loss=0.6035662719\n",
      "Epoch: 49/1000, Train Loss=0.596923079, Val Loss=0.5998448985\n",
      "Epoch: 50/1000, Train Loss=0.5944144071, Val Loss=0.6128950573\n",
      "Epoch: 51/1000, Train Loss=0.5837948264, Val Loss=0.6094177933\n",
      "Epoch: 52/1000, Train Loss=0.5849912026, Val Loss=0.5950941387\n",
      "Epoch: 53/1000, Train Loss=0.5810874736, Val Loss=0.6047889165\n",
      "Epoch: 54/1000, Train Loss=0.5779989444, Val Loss=0.5886419898\n",
      "Epoch: 55/1000, Train Loss=0.5717297699, Val Loss=0.6221311064\n",
      "Epoch: 56/1000, Train Loss=0.5696184144, Val Loss=0.5857151974\n",
      "Epoch: 57/1000, Train Loss=0.5691243749, Val Loss=0.5700756482\n",
      "Epoch: 58/1000, Train Loss=0.5636473882, Val Loss=0.5966153116\n",
      "Epoch: 59/1000, Train Loss=0.5647353518, Val Loss=0.5799179389\n",
      "Epoch: 60/1000, Train Loss=0.5632177182, Val Loss=0.5639332618\n",
      "Epoch: 61/1000, Train Loss=0.5620943623, Val Loss=0.5771441375\n",
      "Epoch: 62/1000, Train Loss=0.5642117788, Val Loss=0.5767995715\n",
      "Epoch: 63/1000, Train Loss=0.5503977818, Val Loss=0.5820714093\n",
      "Epoch: 64/1000, Train Loss=0.5611606439, Val Loss=0.5667950483\n",
      "Epoch: 65/1000, Train Loss=0.5447763882, Val Loss=0.5655489819\n",
      "Epoch: 66/1000, Train Loss=0.547910598, Val Loss=0.5862620132\n",
      "Epoch: 67/1000, Train Loss=0.5431399626, Val Loss=0.5563106281\n",
      "Epoch: 68/1000, Train Loss=0.5481838233, Val Loss=0.561932314\n",
      "Epoch: 69/1000, Train Loss=0.540463312, Val Loss=0.5600717238\n",
      "Epoch: 70/1000, Train Loss=0.5409686273, Val Loss=0.5620440897\n",
      "Epoch: 71/1000, Train Loss=0.5389122168, Val Loss=0.5459535094\n",
      "Epoch: 72/1000, Train Loss=0.5373946732, Val Loss=0.5543461896\n",
      "Epoch: 73/1000, Train Loss=0.538701851, Val Loss=0.5431035644\n",
      "Epoch: 74/1000, Train Loss=0.5335433892, Val Loss=0.5566617109\n",
      "Epoch: 75/1000, Train Loss=0.5250791475, Val Loss=0.5301333467\n",
      "Epoch: 76/1000, Train Loss=0.5311253328, Val Loss=0.5549829176\n",
      "Epoch: 77/1000, Train Loss=0.5279951306, Val Loss=0.5624650688\n",
      "Epoch: 78/1000, Train Loss=0.5206144183, Val Loss=0.5396127701\n",
      "Epoch: 79/1000, Train Loss=0.5145348977, Val Loss=0.5390791638\n",
      "Epoch: 80/1000, Train Loss=0.5237042203, Val Loss=0.5551757358\n",
      "Epoch: 81/1000, Train Loss=0.5228261515, Val Loss=0.5600111286\n",
      "Epoch: 82/1000, Train Loss=0.5174228011, Val Loss=0.5438636598\n",
      "Epoch: 83/1000, Train Loss=0.5111093089, Val Loss=0.5330146182\n",
      "Epoch: 84/1000, Train Loss=0.5172953384, Val Loss=0.5457377774\n",
      "Epoch: 85/1000, Train Loss=0.5102061793, Val Loss=0.5357261839\n",
      "Epoch: 86/1000, Train Loss=0.5074563377, Val Loss=0.5314250418\n",
      "Epoch: 87/1000, Train Loss=0.5098178176, Val Loss=0.5463383368\n",
      "Epoch: 88/1000, Train Loss=0.5084133651, Val Loss=0.5552153871\n",
      "Epoch: 89/1000, Train Loss=0.5048763249, Val Loss=0.5378768245\n",
      "Epoch: 90/1000, Train Loss=0.504536679, Val Loss=0.5706915912\n",
      "Epoch: 91/1000, Train Loss=0.4985098161, Val Loss=0.5330340039\n",
      "Epoch: 92/1000, Train Loss=0.5061341863, Val Loss=0.527589026\n",
      "Epoch: 93/1000, Train Loss=0.4959811744, Val Loss=0.5086233389\n",
      "Epoch: 94/1000, Train Loss=0.497990032, Val Loss=0.5172017955\n",
      "Epoch: 95/1000, Train Loss=0.5015864559, Val Loss=0.5164855435\n",
      "Epoch: 96/1000, Train Loss=0.4988218651, Val Loss=0.560551351\n",
      "Epoch: 97/1000, Train Loss=0.5009505562, Val Loss=0.5333110151\n",
      "Epoch: 98/1000, Train Loss=0.4909339161, Val Loss=0.5255217836\n",
      "Epoch: 99/1000, Train Loss=0.4881534798, Val Loss=0.5508802959\n",
      "Epoch: 100/1000, Train Loss=0.492720161, Val Loss=0.5219639284\n",
      "Epoch: 101/1000, Train Loss=0.4891038525, Val Loss=0.5059023358\n",
      "Epoch: 102/1000, Train Loss=0.4929341276, Val Loss=0.5263765795\n",
      "Epoch: 103/1000, Train Loss=0.4857111129, Val Loss=0.5071805716\n",
      "Epoch: 104/1000, Train Loss=0.4817759839, Val Loss=0.5099263191\n",
      "Epoch: 105/1000, Train Loss=0.4803470595, Val Loss=0.4952948746\n",
      "Epoch: 106/1000, Train Loss=0.4868007898, Val Loss=0.5065345793\n",
      "Epoch: 107/1000, Train Loss=0.479375152, Val Loss=0.497872276\n",
      "Epoch: 108/1000, Train Loss=0.4857271793, Val Loss=0.5052509932\n",
      "Epoch: 109/1000, Train Loss=0.4876018377, Val Loss=0.51839321\n",
      "Epoch: 110/1000, Train Loss=0.4753265194, Val Loss=0.5107171933\n",
      "Epoch: 111/1000, Train Loss=0.4743244788, Val Loss=0.5056825309\n",
      "Epoch: 112/1000, Train Loss=0.483481226, Val Loss=0.5017392579\n",
      "Epoch: 113/1000, Train Loss=0.4765431191, Val Loss=0.4933767092\n",
      "Epoch: 114/1000, Train Loss=0.473878892, Val Loss=0.4982000618\n",
      "Epoch: 115/1000, Train Loss=0.4783083107, Val Loss=0.5094869932\n",
      "Epoch: 116/1000, Train Loss=0.4713586078, Val Loss=0.5012703737\n",
      "Epoch: 117/1000, Train Loss=0.4683203814, Val Loss=0.5020460515\n",
      "Epoch: 118/1000, Train Loss=0.467172604, Val Loss=0.4928274268\n",
      "Epoch: 119/1000, Train Loss=0.4702244156, Val Loss=0.5012279834\n",
      "Epoch: 120/1000, Train Loss=0.4678901411, Val Loss=0.4848769279\n",
      "Epoch: 121/1000, Train Loss=0.4672035353, Val Loss=0.4897235547\n",
      "Epoch: 122/1000, Train Loss=0.4670509123, Val Loss=0.4970722227\n",
      "Epoch: 123/1000, Train Loss=0.4634483772, Val Loss=0.5129852749\n",
      "Epoch: 124/1000, Train Loss=0.4697927026, Val Loss=0.4914589212\n",
      "Epoch: 125/1000, Train Loss=0.4657232598, Val Loss=0.5033910615\n",
      "Epoch: 126/1000, Train Loss=0.4648501593, Val Loss=0.4943296938\n",
      "Epoch: 127/1000, Train Loss=0.4651164109, Val Loss=0.4884633933\n",
      "Epoch: 128/1000, Train Loss=0.4557919467, Val Loss=0.4834642864\n",
      "Epoch: 129/1000, Train Loss=0.4578494885, Val Loss=0.4826618461\n",
      "Epoch: 130/1000, Train Loss=0.4589172076, Val Loss=0.4866943672\n",
      "Epoch: 131/1000, Train Loss=0.4490508332, Val Loss=0.4779466305\n",
      "Epoch: 132/1000, Train Loss=0.4573213481, Val Loss=0.4764578115\n",
      "Epoch: 133/1000, Train Loss=0.4578001149, Val Loss=0.4856070223\n",
      "Epoch: 134/1000, Train Loss=0.4577720586, Val Loss=0.5091411897\n",
      "Epoch: 135/1000, Train Loss=0.4517856404, Val Loss=0.4848449032\n",
      "Epoch: 136/1000, Train Loss=0.4520565283, Val Loss=0.4934343014\n",
      "Epoch: 137/1000, Train Loss=0.4533048845, Val Loss=0.4840448868\n",
      "Epoch: 138/1000, Train Loss=0.4596727525, Val Loss=0.5002614941\n",
      "Epoch: 139/1000, Train Loss=0.4521390083, Val Loss=0.483904586\n",
      "Epoch: 140/1000, Train Loss=0.44481942, Val Loss=0.4753122528\n",
      "Epoch: 141/1000, Train Loss=0.4439404478, Val Loss=0.4714170382\n",
      "Epoch: 142/1000, Train Loss=0.4537333063, Val Loss=0.4759901705\n",
      "Epoch: 143/1000, Train Loss=0.4472536199, Val Loss=0.4859313681\n",
      "Epoch: 144/1000, Train Loss=0.4474986161, Val Loss=0.4727437638\n",
      "Epoch: 145/1000, Train Loss=0.4411280249, Val Loss=0.4852304686\n",
      "Epoch: 146/1000, Train Loss=0.4414627283, Val Loss=0.4774029539\n",
      "Epoch: 147/1000, Train Loss=0.4437224257, Val Loss=0.4849220486\n",
      "Epoch: 148/1000, Train Loss=0.4471603387, Val Loss=0.4954489782\n",
      "Epoch: 149/1000, Train Loss=0.4452317497, Val Loss=0.4945412846\n",
      "Epoch: 150/1000, Train Loss=0.4432854652, Val Loss=0.4790875259\n",
      "Epoch: 151/1000, Train Loss=0.4380782702, Val Loss=0.4870431366\n",
      "Epoch: 152/1000, Train Loss=0.4419864884, Val Loss=0.46942412\n",
      "Epoch: 153/1000, Train Loss=0.4373250043, Val Loss=0.4655706826\n",
      "Epoch: 154/1000, Train Loss=0.4417427731, Val Loss=0.4729795797\n",
      "Epoch: 155/1000, Train Loss=0.4337465401, Val Loss=0.4559625103\n",
      "Epoch: 156/1000, Train Loss=0.4383360171, Val Loss=0.4724998928\n",
      "Epoch: 157/1000, Train Loss=0.4396638905, Val Loss=0.4807383021\n",
      "Epoch: 158/1000, Train Loss=0.4345916977, Val Loss=0.4958369306\n",
      "Epoch: 159/1000, Train Loss=0.4338668608, Val Loss=0.4737266614\n",
      "Epoch: 160/1000, Train Loss=0.4314895927, Val Loss=0.4685932142\n",
      "Epoch: 161/1000, Train Loss=0.4327551758, Val Loss=0.4843808242\n",
      "Epoch: 162/1000, Train Loss=0.427716808, Val Loss=0.4698921839\n",
      "Epoch: 163/1000, Train Loss=0.4301013432, Val Loss=0.46284184\n",
      "Epoch: 164/1000, Train Loss=0.4278135814, Val Loss=0.4775099641\n",
      "Epoch: 165/1000, Train Loss=0.4294527115, Val Loss=0.4767290212\n",
      "Epoch: 166/1000, Train Loss=0.4287613864, Val Loss=0.4742884437\n",
      "Epoch: 167/1000, Train Loss=0.424767638, Val Loss=0.4660747647\n",
      "Epoch: 168/1000, Train Loss=0.4270600805, Val Loss=0.4550738278\n",
      "Epoch: 169/1000, Train Loss=0.4211160985, Val Loss=0.4690947703\n",
      "Epoch: 170/1000, Train Loss=0.4220252645, Val Loss=0.4654675892\n",
      "Epoch: 171/1000, Train Loss=0.4235211389, Val Loss=0.473031325\n",
      "Epoch: 172/1000, Train Loss=0.4264625626, Val Loss=0.4589752725\n",
      "Epoch: 173/1000, Train Loss=0.4302992914, Val Loss=0.4664848248\n",
      "Epoch: 174/1000, Train Loss=0.4181938966, Val Loss=0.4643267932\n",
      "Epoch: 175/1000, Train Loss=0.425100579, Val Loss=0.4639026806\n",
      "Epoch: 176/1000, Train Loss=0.4240999046, Val Loss=0.4629128036\n",
      "Epoch: 177/1000, Train Loss=0.4207009545, Val Loss=0.4578692941\n",
      "Epoch: 178/1000, Train Loss=0.4170713284, Val Loss=0.4547742123\n",
      "Epoch: 179/1000, Train Loss=0.4182373753, Val Loss=0.4704656743\n",
      "Epoch: 180/1000, Train Loss=0.4221410564, Val Loss=0.4707080438\n",
      "Epoch: 181/1000, Train Loss=0.4130230324, Val Loss=0.458726846\n",
      "Epoch: 182/1000, Train Loss=0.4142917932, Val Loss=0.4695773352\n",
      "Epoch: 183/1000, Train Loss=0.4151731998, Val Loss=0.4661472326\n",
      "Epoch: 184/1000, Train Loss=0.4181247809, Val Loss=0.4471741858\n",
      "Epoch: 185/1000, Train Loss=0.409232482, Val Loss=0.4613295254\n",
      "Epoch: 186/1000, Train Loss=0.4143137453, Val Loss=0.4549138149\n",
      "Epoch: 187/1000, Train Loss=0.4123573666, Val Loss=0.4578696035\n",
      "Epoch: 188/1000, Train Loss=0.4134608636, Val Loss=0.4542757244\n",
      "Epoch: 189/1000, Train Loss=0.4064968462, Val Loss=0.446459932\n",
      "Epoch: 190/1000, Train Loss=0.4105825623, Val Loss=0.4531409911\n",
      "Epoch: 191/1000, Train Loss=0.4085739091, Val Loss=0.447043382\n",
      "Epoch: 192/1000, Train Loss=0.4168964402, Val Loss=0.4540741586\n",
      "Epoch: 193/1000, Train Loss=0.4154764192, Val Loss=0.4536722671\n",
      "Epoch: 194/1000, Train Loss=0.4107105405, Val Loss=0.4665328633\n",
      "Epoch: 195/1000, Train Loss=0.4020536612, Val Loss=0.4631731425\n",
      "Epoch: 196/1000, Train Loss=0.4060545646, Val Loss=0.4529509033\n",
      "Epoch: 197/1000, Train Loss=0.4056983602, Val Loss=0.463651589\n",
      "Epoch: 198/1000, Train Loss=0.4013819648, Val Loss=0.4526349533\n",
      "Epoch: 199/1000, Train Loss=0.4081490367, Val Loss=0.4537936052\n",
      "Epoch: 200/1000, Train Loss=0.4027199687, Val Loss=0.454055437\n",
      "Epoch: 201/1000, Train Loss=0.3971984293, Val Loss=0.4504251083\n",
      "Epoch: 202/1000, Train Loss=0.4059514766, Val Loss=0.4468945265\n",
      "Epoch: 203/1000, Train Loss=0.4002341745, Val Loss=0.4466980043\n",
      "Epoch: 204/1000, Train Loss=0.4050674555, Val Loss=0.4619198498\n",
      "Early Stopping\n"
     ]
    }
   ],
   "source": [
    "model = trainer.train(\n",
    "    train_dataloader=train_dataloader,\n",
    "    val_dataloader=val_dataloader\n",
    ")"
   ],
   "metadata": {
    "collapsed": false,
    "ExecuteTime": {
     "end_time": "2023-08-09T20:41:13.370788587Z",
     "start_time": "2023-08-09T20:41:13.195767942Z"
    }
   },
   "id": "9287431a4cb28144"
  },
  {
   "cell_type": "code",
   "execution_count": 17,
   "outputs": [
    {
     "data": {
      "text/plain": "<Figure size 640x480 with 1 Axes>",
      "image/png": "[encoded data removed]"
     },
     "metadata": {},
     "output_type": "display_data"
    }
   ],
   "source": [
    "trainer.plot_loss()"
   ],
   "metadata": {
    "collapsed": false,
    "ExecuteTime": {
     "end_time": "2023-08-09T20:41:13.831166253Z",
     "start_time": "2023-08-09T20:41:13.197627853Z"
    }
   },
   "id": "e954e2744f9892ac"
  }
 ],
 "metadata": {
  "kernelspec": {
   "display_name": "Python 3",
   "language": "python",
   "name": "python3"
  },
  "language_info": {
   "codemirror_mode": {
    "name": "ipython",
    "version": 2
   },
   "file_extension": ".py",
   "mimetype": "text/x-python",
   "name": "python",
   "nbconvert_exporter": "python",
   "pygments_lexer": "ipython2",
   "version": "2.7.6"
  }
 },
 "nbformat": 4,
 "nbformat_minor": 5
}
