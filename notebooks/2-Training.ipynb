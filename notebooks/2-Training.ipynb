{
 "cells": [
  {
   "cell_type": "markdown",
   "source": [
    "# 1. Creating Datasets"
   ],
   "metadata": {
    "collapsed": false
   },
   "id": "1bc45e8572f0cf7d"
  },
  {
   "cell_type": "code",
   "execution_count": 1,
   "outputs": [],
   "source": [
    "import torch\n",
    "\n",
    "config = {\n",
    "    \"data_dir\": \"./../../ML_project/FreiHAND\",\n",
    "    \"epochs\": 1000,\n",
    "    \"batch_size\": 48,\n",
    "    \"batches_per_epoch\": 50,\n",
    "    \"batches_per_epoch_val\": 20,\n",
    "    \"learning_rate\": 0.1,\n",
    "    \"device\": torch.device(\"cuda\" if torch.cuda.is_available() else \"cpu\"),\n",
    "}"
   ],
   "metadata": {
    "collapsed": false,
    "ExecuteTime": {
     "end_time": "2023-08-08T17:54:12.787175619Z",
     "start_time": "2023-08-08T17:54:12.138190544Z"
    }
   },
   "id": "e748abddf6e14688"
  },
  {
   "cell_type": "code",
   "execution_count": 2,
   "outputs": [],
   "source": [
    "from settings import TRAIN_NAME, VALIDATION_NAME\n",
    "from model.dataset import FreiHANDDataset, FreiHANDDataLoader"
   ],
   "metadata": {
    "collapsed": false,
    "ExecuteTime": {
     "end_time": "2023-08-08T17:54:13.938141310Z",
     "start_time": "2023-08-08T17:54:13.383517780Z"
    }
   },
   "id": "3f6af299f63f4d58"
  },
  {
   "cell_type": "markdown",
   "source": [
    "Training set"
   ],
   "metadata": {
    "collapsed": false
   },
   "id": "6063006eaba226e3"
  },
  {
   "cell_type": "code",
   "execution_count": 3,
   "outputs": [
    {
     "data": {
      "text/plain": "FreiHAND [Training - 26000 items]"
     },
     "execution_count": 3,
     "metadata": {},
     "output_type": "execute_result"
    }
   ],
   "source": [
    "train_dataset = FreiHANDDataset(set_type=TRAIN_NAME)\n",
    "train_dataset"
   ],
   "metadata": {
    "collapsed": false,
    "ExecuteTime": {
     "end_time": "2023-08-08T17:54:15.984759912Z",
     "start_time": "2023-08-08T17:54:14.586351829Z"
    }
   },
   "id": "3778cce7db1dd086"
  },
  {
   "cell_type": "code",
   "execution_count": 4,
   "outputs": [
    {
     "data": {
      "text/plain": "FreiHANDDataLoader [Training - Batch size: 48 - Length: 541]"
     },
     "execution_count": 4,
     "metadata": {},
     "output_type": "execute_result"
    }
   ],
   "source": [
    "train_dataloader = FreiHANDDataLoader(\n",
    "    dataset=train_dataset,\n",
    "    batch_size=config[\"batch_size\"],\n",
    "    shuffle=True,\n",
    "    drop_last=True,\n",
    "    num_workers=2\n",
    ")\n",
    "train_dataloader"
   ],
   "metadata": {
    "collapsed": false,
    "ExecuteTime": {
     "end_time": "2023-08-08T17:54:16.412030020Z",
     "start_time": "2023-08-08T17:54:16.401330632Z"
    }
   },
   "id": "55ab1a3a91dfd298"
  },
  {
   "cell_type": "markdown",
   "source": [
    "Validation set"
   ],
   "metadata": {
    "collapsed": false
   },
   "id": "bfaf4648c2b1e18b"
  },
  {
   "cell_type": "code",
   "execution_count": 5,
   "outputs": [
    {
     "data": {
      "text/plain": "FreiHAND [Validation - 5000 items]"
     },
     "execution_count": 5,
     "metadata": {},
     "output_type": "execute_result"
    }
   ],
   "source": [
    "val_dataset = FreiHANDDataset(set_type=VALIDATION_NAME)\n",
    "val_dataset"
   ],
   "metadata": {
    "collapsed": false,
    "ExecuteTime": {
     "end_time": "2023-08-08T17:54:18.589110976Z",
     "start_time": "2023-08-08T17:54:17.277834272Z"
    }
   },
   "id": "9dcdbd9a7171a79"
  },
  {
   "cell_type": "code",
   "execution_count": 6,
   "outputs": [
    {
     "data": {
      "text/plain": "FreiHANDDataLoader [Validation - Batch size: 48 - Length: 104]"
     },
     "execution_count": 6,
     "metadata": {},
     "output_type": "execute_result"
    }
   ],
   "source": [
    "val_dataloader = FreiHANDDataLoader(\n",
    "    dataset=val_dataset,\n",
    "    batch_size=config[\"batch_size\"],\n",
    "    shuffle=True,\n",
    "    drop_last=True,\n",
    "    num_workers=2\n",
    ")\n",
    "val_dataloader"
   ],
   "metadata": {
    "collapsed": false,
    "ExecuteTime": {
     "end_time": "2023-08-08T17:54:18.603849855Z",
     "start_time": "2023-08-08T17:54:18.592475920Z"
    }
   },
   "id": "7ebae5ff1a8b5920"
  },
  {
   "cell_type": "markdown",
   "source": [
    "# 2. Models"
   ],
   "metadata": {
    "collapsed": false
   },
   "id": "5f16394363ce5759"
  },
  {
   "cell_type": "markdown",
   "source": [
    "Creating the ANN:"
   ],
   "metadata": {
    "collapsed": false
   },
   "id": "b694cb1668e9a822"
  },
  {
   "cell_type": "code",
   "execution_count": 7,
   "outputs": [],
   "source": [
    "from model.network import ShallowUNet\n"
   ],
   "metadata": {
    "collapsed": false,
    "ExecuteTime": {
     "end_time": "2023-08-08T17:54:20.497878676Z",
     "start_time": "2023-08-08T17:54:20.489284640Z"
    }
   },
   "id": "d4570ce592adccd8"
  },
  {
   "cell_type": "code",
   "execution_count": 8,
   "outputs": [],
   "source": [
    "model = ShallowUNet(in_channel=3, out_channel=21)\n",
    "model = model.to(config[\"device\"])"
   ],
   "metadata": {
    "collapsed": false,
    "ExecuteTime": {
     "end_time": "2023-08-08T17:54:21.414719230Z",
     "start_time": "2023-08-08T17:54:21.338200038Z"
    }
   },
   "id": "9010a0423dfd393c"
  },
  {
   "cell_type": "markdown",
   "source": [
    "Creating the loss criterion"
   ],
   "metadata": {
    "collapsed": false
   },
   "id": "4c782903c6873f57"
  },
  {
   "cell_type": "code",
   "execution_count": 9,
   "outputs": [],
   "source": [
    "from model.network import IoULoss"
   ],
   "metadata": {
    "collapsed": false,
    "ExecuteTime": {
     "end_time": "2023-08-08T17:54:22.504469042Z",
     "start_time": "2023-08-08T17:54:22.495028140Z"
    }
   },
   "id": "47d056a170c4f30c"
  },
  {
   "cell_type": "code",
   "execution_count": 10,
   "outputs": [],
   "source": [
    "criterion = IoULoss()"
   ],
   "metadata": {
    "collapsed": false,
    "ExecuteTime": {
     "end_time": "2023-08-08T17:54:23.158742366Z",
     "start_time": "2023-08-08T17:54:23.070302524Z"
    }
   },
   "id": "f479ca622aff8c54"
  },
  {
   "cell_type": "markdown",
   "source": [
    "Creating the optimizer"
   ],
   "metadata": {
    "collapsed": false
   },
   "id": "dfae5fb5eeb557a7"
  },
  {
   "cell_type": "code",
   "execution_count": 11,
   "outputs": [],
   "source": [
    "import torch.optim as optim"
   ],
   "metadata": {
    "collapsed": false,
    "ExecuteTime": {
     "end_time": "2023-08-08T17:54:24.526208213Z",
     "start_time": "2023-08-08T17:54:24.517146526Z"
    }
   },
   "id": "ebc0a8f278512da6"
  },
  {
   "cell_type": "code",
   "execution_count": 12,
   "outputs": [
    {
     "data": {
      "text/plain": "SGD (\nParameter Group 0\n    dampening: 0\n    foreach: None\n    lr: 0.1\n    maximize: False\n    momentum: 0\n    nesterov: False\n    weight_decay: 0\n)"
     },
     "execution_count": 12,
     "metadata": {},
     "output_type": "execute_result"
    }
   ],
   "source": [
    "optimizer = optim.SGD(model.parameters(), lr=config[\"learning_rate\"])\n",
    "optimizer"
   ],
   "metadata": {
    "collapsed": false,
    "ExecuteTime": {
     "end_time": "2023-08-08T17:54:25.208236937Z",
     "start_time": "2023-08-08T17:54:25.166070224Z"
    }
   },
   "id": "ca4b761d203cd96a"
  },
  {
   "cell_type": "markdown",
   "source": [
    "Creating the scheduler"
   ],
   "metadata": {
    "collapsed": false
   },
   "id": "d6b4f394f0ed4ce0"
  },
  {
   "cell_type": "code",
   "execution_count": 13,
   "outputs": [
    {
     "data": {
      "text/plain": "<torch.optim.lr_scheduler.ReduceLROnPlateau at 0x7f3fd61f3550>"
     },
     "execution_count": 13,
     "metadata": {},
     "output_type": "execute_result"
    }
   ],
   "source": [
    "scheduler = optim.lr_scheduler.ReduceLROnPlateau(\n",
    "    optimizer=optimizer, factor=0.5, patience=20, verbose=True, threshold=0.00001\n",
    ")\n",
    "scheduler"
   ],
   "metadata": {
    "collapsed": false,
    "ExecuteTime": {
     "end_time": "2023-08-08T17:54:26.572637499Z",
     "start_time": "2023-08-08T17:54:26.565863308Z"
    }
   },
   "id": "c788aff4331a4445"
  },
  {
   "cell_type": "markdown",
   "source": [
    "# 3. Training"
   ],
   "metadata": {
    "collapsed": false
   },
   "id": "5c885bf69f84e74e"
  },
  {
   "cell_type": "code",
   "execution_count": 14,
   "outputs": [
    {
     "data": {
      "text/plain": "<model.trainer.Trainer at 0x7f402bfee770>"
     },
     "execution_count": 14,
     "metadata": {},
     "output_type": "execute_result"
    }
   ],
   "source": [
    "from model.trainer import Trainer\n",
    "\n",
    "trainer = Trainer(model, criterion, optimizer, config, scheduler)\n",
    "trainer"
   ],
   "metadata": {
    "collapsed": false,
    "ExecuteTime": {
     "end_time": "2023-08-08T17:54:27.836060578Z",
     "start_time": "2023-08-08T17:54:27.821117668Z"
    }
   },
   "id": "5948e9e45df16869"
  },
  {
   "cell_type": "code",
   "execution_count": null,
   "outputs": [
    {
     "name": "stdout",
     "output_type": "stream",
     "text": [
      "INFO: Progress: [0/541] - 0.00%\n",
      "INFO: Progress: [1/541] - 0.18%\n"
     ]
    }
   ],
   "source": [
    "model = trainer.train(train_dataloader, val_dataloader)"
   ],
   "metadata": {
    "collapsed": false,
    "is_executing": true,
    "ExecuteTime": {
     "start_time": "2023-08-08T17:54:28.656758166Z"
    }
   },
   "id": "9287431a4cb28144"
  }
 ],
 "metadata": {
  "kernelspec": {
   "display_name": "Python 3",
   "language": "python",
   "name": "python3"
  },
  "language_info": {
   "codemirror_mode": {
    "name": "ipython",
    "version": 2
   },
   "file_extension": ".py",
   "mimetype": "text/x-python",
   "name": "python",
   "nbconvert_exporter": "python",
   "pygments_lexer": "ipython2",
   "version": "2.7.6"
  }
 },
 "nbformat": 4,
 "nbformat_minor": 5
}
