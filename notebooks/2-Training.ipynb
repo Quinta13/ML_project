{
 "cells": [
  {
   "cell_type": "markdown",
   "source": [
    "# Training the Model"
   ],
   "metadata": {
    "collapsed": false
   },
   "id": "1e85ad110dd7eabf"
  },
  {
   "cell_type": "markdown",
   "source": [
    "## 1. Creating Datasets"
   ],
   "metadata": {
    "collapsed": false
   },
   "id": "1bc45e8572f0cf7d"
  },
  {
   "cell_type": "code",
   "execution_count": 1,
   "outputs": [],
   "source": [
    "from model.dataset import FreiHANDDataset, FreiHANDDataLoader\n",
    "from settings import MODEL_CONFIG"
   ],
   "metadata": {
    "collapsed": false,
    "ExecuteTime": {
     "end_time": "2023-08-14T09:14:55.748800186Z",
     "start_time": "2023-08-14T09:14:53.942672810Z"
    }
   },
   "id": "b76eb7cbce0132db"
  },
  {
   "cell_type": "markdown",
   "source": [
    "Loading Training set."
   ],
   "metadata": {
    "collapsed": false
   },
   "id": "6063006eaba226e3"
  },
  {
   "cell_type": "code",
   "execution_count": 2,
   "outputs": [
    {
     "data": {
      "text/plain": "FreiHAND [Train - 26000 items]"
     },
     "execution_count": 2,
     "metadata": {},
     "output_type": "execute_result"
    }
   ],
   "source": [
    "train_dataset = FreiHANDDataset(set_type=\"train\")\n",
    "train_dataset"
   ],
   "metadata": {
    "collapsed": false,
    "ExecuteTime": {
     "end_time": "2023-08-14T09:14:57.100092135Z",
     "start_time": "2023-08-14T09:14:55.753004651Z"
    }
   },
   "id": "3778cce7db1dd086"
  },
  {
   "cell_type": "code",
   "execution_count": 3,
   "outputs": [
    {
     "data": {
      "text/plain": "FreiHANDDataLoader [Train - Batch size: 48 - Length: 541]"
     },
     "execution_count": 3,
     "metadata": {},
     "output_type": "execute_result"
    }
   ],
   "source": [
    "train_dataloader = FreiHANDDataLoader(\n",
    "    dataset=train_dataset,\n",
    "    batch_size=MODEL_CONFIG[\"batch_size\"],\n",
    "    shuffle=True,\n",
    "    drop_last=True,\n",
    "    num_workers=2\n",
    ")\n",
    "train_dataloader"
   ],
   "metadata": {
    "collapsed": false,
    "ExecuteTime": {
     "end_time": "2023-08-14T09:14:57.609622540Z",
     "start_time": "2023-08-14T09:14:57.565561173Z"
    }
   },
   "id": "55ab1a3a91dfd298"
  },
  {
   "cell_type": "markdown",
   "source": [
    "Loading Validation set."
   ],
   "metadata": {
    "collapsed": false
   },
   "id": "bfaf4648c2b1e18b"
  },
  {
   "cell_type": "code",
   "execution_count": 4,
   "outputs": [
    {
     "data": {
      "text/plain": "FreiHAND [Val - 5000 items]"
     },
     "execution_count": 4,
     "metadata": {},
     "output_type": "execute_result"
    }
   ],
   "source": [
    "val_dataset = FreiHANDDataset(set_type=\"val\")\n",
    "val_dataset"
   ],
   "metadata": {
    "collapsed": false,
    "ExecuteTime": {
     "end_time": "2023-08-14T09:15:00.078937446Z",
     "start_time": "2023-08-14T09:14:58.631984755Z"
    }
   },
   "id": "9dcdbd9a7171a79"
  },
  {
   "cell_type": "code",
   "execution_count": 5,
   "outputs": [
    {
     "data": {
      "text/plain": "FreiHANDDataLoader [Val - Batch size: 48 - Length: 104]"
     },
     "execution_count": 5,
     "metadata": {},
     "output_type": "execute_result"
    }
   ],
   "source": [
    "val_dataloader = FreiHANDDataLoader(\n",
    "    dataset=val_dataset,\n",
    "    batch_size=MODEL_CONFIG[\"batch_size\"],\n",
    "    shuffle=True,\n",
    "    drop_last=True,\n",
    "    num_workers=2\n",
    ")\n",
    "val_dataloader"
   ],
   "metadata": {
    "collapsed": false,
    "ExecuteTime": {
     "end_time": "2023-08-14T09:15:00.091537557Z",
     "start_time": "2023-08-14T09:15:00.077716564Z"
    }
   },
   "id": "7ebae5ff1a8b5920"
  },
  {
   "cell_type": "markdown",
   "source": [
    "## 2. Model and Loss"
   ],
   "metadata": {
    "collapsed": false
   },
   "id": "5f16394363ce5759"
  },
  {
   "cell_type": "markdown",
   "source": [
    "Generating the NeuralNetwork."
   ],
   "metadata": {
    "collapsed": false
   },
   "id": "b694cb1668e9a822"
  },
  {
   "cell_type": "code",
   "execution_count": 6,
   "outputs": [],
   "source": [
    "from model.network import HandPoseEstimationUNet, IoULoss"
   ],
   "metadata": {
    "collapsed": false,
    "ExecuteTime": {
     "end_time": "2023-08-14T09:15:00.844794739Z",
     "start_time": "2023-08-14T09:15:00.829509076Z"
    }
   },
   "id": "d4570ce592adccd8"
  },
  {
   "cell_type": "code",
   "execution_count": 7,
   "outputs": [
    {
     "data": {
      "text/plain": "U-Net[In-channels: 3; Out-channels: 21]"
     },
     "execution_count": 7,
     "metadata": {},
     "output_type": "execute_result"
    }
   ],
   "source": [
    "model = HandPoseEstimationUNet(\n",
    "    in_channel=MODEL_CONFIG[\"in_channels\"],\n",
    "    out_channel=MODEL_CONFIG[\"out_channels\"]\n",
    ")\n",
    "model = model.to(MODEL_CONFIG[\"device\"])\n",
    "model"
   ],
   "metadata": {
    "collapsed": false,
    "ExecuteTime": {
     "end_time": "2023-08-14T09:15:01.521907821Z",
     "start_time": "2023-08-14T09:15:01.414352354Z"
    }
   },
   "id": "9010a0423dfd393c"
  },
  {
   "cell_type": "markdown",
   "source": [
    "Generating the Loss"
   ],
   "metadata": {
    "collapsed": false
   },
   "id": "4c782903c6873f57"
  },
  {
   "cell_type": "code",
   "execution_count": 8,
   "outputs": [
    {
     "data": {
      "text/plain": "IoULoss"
     },
     "execution_count": 8,
     "metadata": {},
     "output_type": "execute_result"
    }
   ],
   "source": [
    "loss = IoULoss()\n",
    "loss"
   ],
   "metadata": {
    "collapsed": false,
    "ExecuteTime": {
     "end_time": "2023-08-14T09:15:02.431897661Z",
     "start_time": "2023-08-14T09:15:02.382776499Z"
    }
   },
   "id": "f479ca622aff8c54"
  },
  {
   "cell_type": "markdown",
   "source": [
    "## 3. Training"
   ],
   "metadata": {
    "collapsed": false
   },
   "id": "5c885bf69f84e74e"
  },
  {
   "cell_type": "markdown",
   "source": [
    "Generating the trainer."
   ],
   "metadata": {
    "collapsed": false
   },
   "id": "ddec8b2357585fcf"
  },
  {
   "cell_type": "code",
   "execution_count": 9,
   "outputs": [
    {
     "data": {
      "text/plain": "Trainer [Epochs: 1000; Batches per Epoch: 50; Batches per Epoch Validation: 20]"
     },
     "execution_count": 9,
     "metadata": {},
     "output_type": "execute_result"
    }
   ],
   "source": [
    "from model.trainer import Trainer\n",
    "\n",
    "trainer = Trainer(\n",
    "    model=model,\n",
    "    criterion=loss,\n",
    "    train_dataloader=train_dataloader,\n",
    "    val_dataloader=val_dataloader,\n",
    "    epochs=MODEL_CONFIG[\"epochs\"],\n",
    "    batches_per_epoch=MODEL_CONFIG[\"batches_per_epoch\"],\n",
    "    batches_per_epoch_val=MODEL_CONFIG[\"batches_per_epoch_val\"]\n",
    ")\n",
    "trainer"
   ],
   "metadata": {
    "collapsed": false,
    "ExecuteTime": {
     "end_time": "2023-08-14T09:15:05.873094860Z",
     "start_time": "2023-08-14T09:15:05.768752835Z"
    }
   },
   "id": "5948e9e45df16869"
  },
  {
   "cell_type": "markdown",
   "source": [
    "Evaluating the model."
   ],
   "metadata": {
    "collapsed": false
   },
   "id": "8ad5aaf04b9dc752"
  },
  {
   "cell_type": "code",
   "execution_count": 10,
   "outputs": [
    {
     "name": "stdout",
     "output_type": "stream",
     "text": [
      "INFO: Epoch: 1/1000, Train Loss=0.9929181606, Val Loss=0.9928370061\n",
      "INFO: Epoch: 2/1000, Train Loss=0.9927490564, Val Loss=0.9926514796\n",
      "INFO: Epoch: 3/1000, Train Loss=0.9925731245, Val Loss=0.9924645197\n",
      "INFO: Epoch: 4/1000, Train Loss=0.9923763076, Val Loss=0.9922494519\n",
      "INFO: Epoch: 5/1000, Train Loss=0.992127505, Val Loss=0.9918954174\n",
      "INFO: Epoch: 6/1000, Train Loss=0.9917877889, Val Loss=0.9914683104\n",
      "INFO: Epoch: 7/1000, Train Loss=0.9913033761, Val Loss=0.9909568202\n",
      "INFO: Epoch: 8/1000, Train Loss=0.9905855212, Val Loss=0.9902522365\n",
      "INFO: Epoch: 9/1000, Train Loss=0.9895273295, Val Loss=0.9887352047\n",
      "INFO: Epoch: 10/1000, Train Loss=0.9879703136, Val Loss=0.9866542703\n",
      "INFO: Epoch: 11/1000, Train Loss=0.9857794526, Val Loss=0.9841956184\n",
      "INFO: Epoch: 12/1000, Train Loss=0.9825307376, Val Loss=0.9804158778\n",
      "INFO: Epoch: 13/1000, Train Loss=0.9723703148, Val Loss=0.9605496072\n",
      "INFO: Epoch: 14/1000, Train Loss=0.9485740311, Val Loss=0.9407394699\n",
      "INFO: Epoch: 15/1000, Train Loss=0.9308782909, Val Loss=0.9218836143\n",
      "INFO: Epoch: 16/1000, Train Loss=0.9206881698, Val Loss=0.912882575\n",
      "INFO: Epoch: 17/1000, Train Loss=0.9134224443, Val Loss=0.9015778672\n",
      "INFO: Epoch: 18/1000, Train Loss=0.9012825933, Val Loss=0.8951712393\n",
      "INFO: Epoch: 19/1000, Train Loss=0.8830590832, Val Loss=0.8758224362\n",
      "INFO: Epoch: 20/1000, Train Loss=0.8688264513, Val Loss=0.8464753287\n",
      "INFO: Epoch: 21/1000, Train Loss=0.8426284182, Val Loss=0.8249674156\n",
      "INFO: Epoch: 22/1000, Train Loss=0.8133917813, Val Loss=0.8326694426\n",
      "INFO: Epoch: 23/1000, Train Loss=0.7888663154, Val Loss=0.7925936835\n",
      "INFO: Epoch: 24/1000, Train Loss=0.7748040767, Val Loss=0.7929422997\n",
      "INFO: Epoch: 25/1000, Train Loss=0.7630954011, Val Loss=0.7677809596\n",
      "INFO: Epoch: 26/1000, Train Loss=0.7572891373, Val Loss=0.7492407873\n",
      "INFO: Epoch: 27/1000, Train Loss=0.7427440823, Val Loss=0.7516796986\n",
      "INFO: Epoch: 28/1000, Train Loss=0.7413836788, Val Loss=0.7384760266\n",
      "INFO: Epoch: 29/1000, Train Loss=0.7474334591, Val Loss=0.7712753585\n",
      "INFO: Epoch: 30/1000, Train Loss=0.7258846187, Val Loss=0.7570730561\n",
      "INFO: Epoch: 31/1000, Train Loss=0.7207117992, Val Loss=0.7539675803\n",
      "INFO: Epoch: 32/1000, Train Loss=0.7099636454, Val Loss=0.7091332475\n",
      "INFO: Epoch: 33/1000, Train Loss=0.703332506, Val Loss=0.720472421\n",
      "INFO: Epoch: 34/1000, Train Loss=0.6974838972, Val Loss=0.7215413877\n",
      "INFO: Epoch: 35/1000, Train Loss=0.6880000105, Val Loss=0.7133144367\n",
      "INFO: Epoch: 36/1000, Train Loss=0.6866629766, Val Loss=0.7031365917\n",
      "INFO: Epoch: 37/1000, Train Loss=0.6795293806, Val Loss=0.6807879947\n",
      "INFO: Epoch: 38/1000, Train Loss=0.6717245509, Val Loss=0.7095674674\n",
      "INFO: Epoch: 39/1000, Train Loss=0.6644852021, Val Loss=0.662361602\n",
      "INFO: Epoch: 40/1000, Train Loss=0.6608686938, Val Loss=0.6632264342\n",
      "INFO: Epoch: 41/1000, Train Loss=0.6604722914, Val Loss=0.6632549507\n",
      "INFO: Epoch: 42/1000, Train Loss=0.6538273155, Val Loss=0.6637971628\n",
      "INFO: Epoch: 43/1000, Train Loss=0.6483606275, Val Loss=0.6509764223\n",
      "INFO: Epoch: 44/1000, Train Loss=0.645682377, Val Loss=0.6948249227\n",
      "INFO: Epoch: 45/1000, Train Loss=0.6396228461, Val Loss=0.6447770283\n",
      "INFO: Epoch: 46/1000, Train Loss=0.6373183984, Val Loss=0.6467201795\n",
      "INFO: Epoch: 47/1000, Train Loss=0.6291129437, Val Loss=0.6123502198\n",
      "INFO: Epoch: 48/1000, Train Loss=0.6217009858, Val Loss=0.6375416829\n",
      "INFO: Epoch: 49/1000, Train Loss=0.6161514158, Val Loss=0.6381784167\n",
      "INFO: Epoch: 50/1000, Train Loss=0.6149172841, Val Loss=0.6336617101\n",
      "INFO: Epoch: 51/1000, Train Loss=0.6113043708, Val Loss=0.6190754431\n",
      "INFO: Epoch: 52/1000, Train Loss=0.6106206237, Val Loss=0.6128695267\n",
      "INFO: Epoch: 53/1000, Train Loss=0.604979071, Val Loss=0.5964110323\n",
      "INFO: Epoch: 54/1000, Train Loss=0.6023676489, Val Loss=0.6510663033\n",
      "INFO: Epoch: 55/1000, Train Loss=0.6009286291, Val Loss=0.60371366\n",
      "INFO: Epoch: 56/1000, Train Loss=0.5932710124, Val Loss=0.5941508384\n",
      "INFO: Epoch: 57/1000, Train Loss=0.5884494185, Val Loss=0.5907406012\n",
      "INFO: Epoch: 58/1000, Train Loss=0.5910516148, Val Loss=0.6067147085\n",
      "INFO: Epoch: 59/1000, Train Loss=0.5890283795, Val Loss=0.6060415989\n",
      "INFO: Epoch: 60/1000, Train Loss=0.5840223665, Val Loss=0.6009246196\n",
      "INFO: Epoch: 61/1000, Train Loss=0.5822785953, Val Loss=0.5754879117\n",
      "INFO: Epoch: 62/1000, Train Loss=0.5765484688, Val Loss=0.5885960346\n",
      "INFO: Epoch: 63/1000, Train Loss=0.581181428, Val Loss=0.5756017112\n",
      "INFO: Epoch: 64/1000, Train Loss=0.5746838392, Val Loss=0.5711820324\n",
      "INFO: Epoch: 65/1000, Train Loss=0.573286406, Val Loss=0.5760875543\n",
      "INFO: Epoch: 66/1000, Train Loss=0.5633901475, Val Loss=0.5778877054\n",
      "INFO: Epoch: 67/1000, Train Loss=0.5613032404, Val Loss=0.5815785215\n",
      "INFO: Epoch: 68/1000, Train Loss=0.561519354, Val Loss=0.5588740366\n",
      "INFO: Epoch: 69/1000, Train Loss=0.5595846901, Val Loss=0.5741463559\n",
      "INFO: Epoch: 70/1000, Train Loss=0.5600861334, Val Loss=0.55968053\n",
      "INFO: Epoch: 71/1000, Train Loss=0.5598698013, Val Loss=0.5709027393\n",
      "INFO: Epoch: 72/1000, Train Loss=0.5585955977, Val Loss=0.5657722326\n",
      "INFO: Epoch: 73/1000, Train Loss=0.5485094482, Val Loss=0.5701575875\n",
      "INFO: Epoch: 74/1000, Train Loss=0.5507759265, Val Loss=0.5564085415\n",
      "INFO: Epoch: 75/1000, Train Loss=0.5516469595, Val Loss=0.5447669058\n",
      "INFO: Epoch: 76/1000, Train Loss=0.5374652884, Val Loss=0.5481780626\n",
      "INFO: Epoch: 77/1000, Train Loss=0.5443090855, Val Loss=0.5833799725\n",
      "INFO: Epoch: 78/1000, Train Loss=0.5411360848, Val Loss=0.5298541273\n",
      "INFO: Epoch: 79/1000, Train Loss=0.538662907, Val Loss=0.5514637232\n",
      "INFO: Epoch: 80/1000, Train Loss=0.5295312977, Val Loss=0.5270951504\n",
      "INFO: Epoch: 81/1000, Train Loss=0.5378524065, Val Loss=0.578131934\n",
      "INFO: Epoch: 82/1000, Train Loss=0.5351364554, Val Loss=0.5317926833\n",
      "INFO: Epoch: 83/1000, Train Loss=0.5330596893, Val Loss=0.5558016471\n",
      "INFO: Epoch: 84/1000, Train Loss=0.5295724296, Val Loss=0.5330840321\n",
      "INFO: Epoch: 85/1000, Train Loss=0.5312929481, Val Loss=0.5304728803\n",
      "INFO: Epoch: 86/1000, Train Loss=0.5312118507, Val Loss=0.5499404044\n",
      "INFO: Epoch: 87/1000, Train Loss=0.5258425451, Val Loss=0.5092441411\n",
      "INFO: Epoch: 88/1000, Train Loss=0.5246202303, Val Loss=0.5222450807\n",
      "INFO: Epoch: 89/1000, Train Loss=0.5242138891, Val Loss=0.5268323563\n",
      "INFO: Epoch: 90/1000, Train Loss=0.5253426514, Val Loss=0.5334855574\n",
      "INFO: Epoch: 91/1000, Train Loss=0.5134602446, Val Loss=0.5217978926\n",
      "INFO: Epoch: 92/1000, Train Loss=0.5184795786, Val Loss=0.5302917844\n",
      "INFO: Epoch: 93/1000, Train Loss=0.5135666401, Val Loss=0.5108969524\n",
      "INFO: Epoch: 94/1000, Train Loss=0.5151805095, Val Loss=0.5311533213\n",
      "INFO: Epoch: 95/1000, Train Loss=0.5009179711, Val Loss=0.5003853298\n",
      "INFO: Epoch: 96/1000, Train Loss=0.5124004156, Val Loss=0.5266561906\n",
      "INFO: Epoch: 97/1000, Train Loss=0.5067864388, Val Loss=0.5045930289\n",
      "INFO: Epoch: 98/1000, Train Loss=0.5036950263, Val Loss=0.5211849156\n",
      "INFO: Epoch: 99/1000, Train Loss=0.5048879221, Val Loss=0.5089509856\n",
      "INFO: Epoch: 100/1000, Train Loss=0.5033122044, Val Loss=0.5072590709\n",
      "INFO: Saving checkpoint model: epoch 99\n",
      "INFO: Epoch: 101/1000, Train Loss=0.504734425, Val Loss=0.5141252733\n",
      "INFO: Epoch: 102/1000, Train Loss=0.499744614, Val Loss=0.5115440062\n",
      "INFO: Epoch: 103/1000, Train Loss=0.5021578366, Val Loss=0.5099388049\n",
      "INFO: Epoch: 104/1000, Train Loss=0.4982183657, Val Loss=0.4988499482\n",
      "INFO: Epoch: 105/1000, Train Loss=0.4979294936, Val Loss=0.5032368189\n",
      "INFO: Epoch: 106/1000, Train Loss=0.4990832537, Val Loss=0.4959824057\n",
      "INFO: Epoch: 107/1000, Train Loss=0.493352592, Val Loss=0.490252614\n",
      "INFO: Epoch: 108/1000, Train Loss=0.4919943739, Val Loss=0.488613773\n",
      "INFO: Epoch: 109/1000, Train Loss=0.4925325688, Val Loss=0.5305565255\n",
      "INFO: Epoch: 110/1000, Train Loss=0.4900132161, Val Loss=0.4790977296\n",
      "INFO: Epoch: 111/1000, Train Loss=0.4840266599, Val Loss=0.483572923\n",
      "INFO: Epoch: 112/1000, Train Loss=0.4876717832, Val Loss=0.4916668705\n",
      "INFO: Epoch: 113/1000, Train Loss=0.4874069141, Val Loss=0.5020561616\n",
      "INFO: Epoch: 114/1000, Train Loss=0.4867763858, Val Loss=0.4972246516\n",
      "INFO: Epoch: 115/1000, Train Loss=0.4881929288, Val Loss=0.4746684233\n",
      "INFO: Epoch: 116/1000, Train Loss=0.4829031603, Val Loss=0.4843111577\n",
      "INFO: Epoch: 117/1000, Train Loss=0.4848397433, Val Loss=0.4883321155\n",
      "INFO: Epoch: 118/1000, Train Loss=0.4841562498, Val Loss=0.491805122\n",
      "INFO: Epoch: 119/1000, Train Loss=0.4732374853, Val Loss=0.4789902511\n",
      "INFO: Epoch: 120/1000, Train Loss=0.4707826411, Val Loss=0.5132658311\n",
      "INFO: Epoch: 121/1000, Train Loss=0.4768664673, Val Loss=0.4930946373\n",
      "INFO: Epoch: 122/1000, Train Loss=0.4767651172, Val Loss=0.4824976751\n",
      "INFO: Epoch: 123/1000, Train Loss=0.4770356417, Val Loss=0.4808784723\n",
      "INFO: Epoch: 124/1000, Train Loss=0.4734347311, Val Loss=0.487310753\n",
      "INFO: Epoch: 125/1000, Train Loss=0.4675494351, Val Loss=0.4764473978\n",
      "INFO: Epoch: 126/1000, Train Loss=0.4711982771, Val Loss=0.4820461926\n",
      "INFO: Epoch: 127/1000, Train Loss=0.4723278822, Val Loss=0.4601701839\n",
      "INFO: Epoch: 128/1000, Train Loss=0.4721221433, Val Loss=0.472479281\n",
      "INFO: Epoch: 129/1000, Train Loss=0.4635528373, Val Loss=0.4749558227\n",
      "INFO: Epoch: 130/1000, Train Loss=0.4652988291, Val Loss=0.494558868\n",
      "INFO: Epoch: 131/1000, Train Loss=0.4630975992, Val Loss=0.477523324\n",
      "INFO: Epoch: 132/1000, Train Loss=0.4622074798, Val Loss=0.4658100662\n",
      "INFO: Epoch: 133/1000, Train Loss=0.4625808608, Val Loss=0.4653972444\n",
      "INFO: Epoch: 134/1000, Train Loss=0.4644368571, Val Loss=0.4844001872\n",
      "INFO: Epoch: 135/1000, Train Loss=0.4627121243, Val Loss=0.4838052676\n",
      "INFO: Epoch: 136/1000, Train Loss=0.4582709693, Val Loss=0.4517293941\n",
      "INFO: Epoch: 137/1000, Train Loss=0.4562239951, Val Loss=0.4908844119\n",
      "INFO: Epoch: 138/1000, Train Loss=0.4610643936, Val Loss=0.4612391534\n",
      "INFO: Epoch: 139/1000, Train Loss=0.4535195173, Val Loss=0.4751396066\n",
      "INFO: Epoch: 140/1000, Train Loss=0.4559760374, Val Loss=0.4602586144\n",
      "INFO: Epoch: 141/1000, Train Loss=0.459031666, Val Loss=0.4441092128\n",
      "INFO: Epoch: 142/1000, Train Loss=0.4491808122, Val Loss=0.445116256\n",
      "INFO: Epoch: 143/1000, Train Loss=0.4525134435, Val Loss=0.4523352328\n",
      "INFO: Epoch: 144/1000, Train Loss=0.4512957779, Val Loss=0.4464462485\n",
      "INFO: Epoch: 145/1000, Train Loss=0.4451311371, Val Loss=0.443385093\n",
      "INFO: Epoch: 146/1000, Train Loss=0.4470712005, Val Loss=0.4912567224\n",
      "INFO: Epoch: 147/1000, Train Loss=0.4479560279, Val Loss=0.4611323816\n",
      "INFO: Epoch: 148/1000, Train Loss=0.4541795219, Val Loss=0.4597892591\n",
      "INFO: Epoch: 149/1000, Train Loss=0.4465217181, Val Loss=0.4489184192\n",
      "INFO: Epoch: 150/1000, Train Loss=0.4503206599, Val Loss=0.4425042243\n",
      "INFO: Epoch: 151/1000, Train Loss=0.4443457477, Val Loss=0.4487971522\n",
      "INFO: Epoch: 152/1000, Train Loss=0.4438525462, Val Loss=0.4708755329\n",
      "INFO: Epoch: 153/1000, Train Loss=0.4468997904, Val Loss=0.4569844973\n",
      "INFO: Epoch: 154/1000, Train Loss=0.4443906429, Val Loss=0.4540361563\n",
      "INFO: Epoch: 155/1000, Train Loss=0.4447796099, Val Loss=0.4255293466\n",
      "INFO: Epoch: 156/1000, Train Loss=0.439716463, Val Loss=0.4534258672\n",
      "INFO: Epoch: 157/1000, Train Loss=0.4390579941, Val Loss=0.4707686702\n",
      "INFO: Epoch: 158/1000, Train Loss=0.4482483607, Val Loss=0.4327462117\n",
      "INFO: Epoch: 159/1000, Train Loss=0.4396879416, Val Loss=0.4268633695\n",
      "INFO: Epoch: 160/1000, Train Loss=0.4348707187, Val Loss=0.4389982706\n",
      "INFO: Epoch: 161/1000, Train Loss=0.436640702, Val Loss=0.4394034119\n",
      "INFO: Epoch: 162/1000, Train Loss=0.4372742608, Val Loss=0.4267646812\n",
      "INFO: Epoch: 163/1000, Train Loss=0.4375648335, Val Loss=0.4528689328\n",
      "INFO: Epoch: 164/1000, Train Loss=0.4385199255, Val Loss=0.4508397551\n",
      "INFO: Epoch: 165/1000, Train Loss=0.4358954406, Val Loss=0.4435506009\n",
      "INFO: Epoch: 166/1000, Train Loss=0.4355188643, Val Loss=0.4254801784\n",
      "INFO: Epoch: 167/1000, Train Loss=0.436316676, Val Loss=0.4272813314\n",
      "INFO: Epoch: 168/1000, Train Loss=0.4344251203, Val Loss=0.4328755736\n",
      "INFO: Epoch: 169/1000, Train Loss=0.4310226908, Val Loss=0.4301764085\n",
      "INFO: Epoch: 170/1000, Train Loss=0.4353590035, Val Loss=0.438441444\n",
      "INFO: Epoch: 171/1000, Train Loss=0.4301978876, Val Loss=0.4219889471\n",
      "INFO: Epoch: 172/1000, Train Loss=0.4277486895, Val Loss=0.439980822\n",
      "INFO: Epoch: 173/1000, Train Loss=0.433267861, Val Loss=0.4445319318\n",
      "INFO: Epoch: 174/1000, Train Loss=0.4318188078, Val Loss=0.433642552\n",
      "INFO: Epoch: 175/1000, Train Loss=0.4225789203, Val Loss=0.4284885951\n",
      "INFO: Epoch: 176/1000, Train Loss=0.426432176, Val Loss=0.4206186278\n",
      "INFO: Epoch: 177/1000, Train Loss=0.4228022952, Val Loss=0.4189345127\n",
      "INFO: Epoch: 178/1000, Train Loss=0.4237160881, Val Loss=0.4218390073\n",
      "INFO: Epoch: 179/1000, Train Loss=0.4234983605, Val Loss=0.4153407897\n",
      "INFO: Epoch: 180/1000, Train Loss=0.4236463145, Val Loss=0.430169588\n",
      "INFO: Epoch: 181/1000, Train Loss=0.4194903502, Val Loss=0.4200748432\n",
      "INFO: Epoch: 182/1000, Train Loss=0.4202942895, Val Loss=0.4183716689\n",
      "INFO: Epoch: 183/1000, Train Loss=0.4151136793, Val Loss=0.4339318446\n",
      "INFO: Epoch: 184/1000, Train Loss=0.4213691506, Val Loss=0.4213882372\n",
      "INFO: Epoch: 185/1000, Train Loss=0.4169005927, Val Loss=0.4299333578\n",
      "INFO: Epoch: 186/1000, Train Loss=0.4118798702, Val Loss=0.4225214209\n",
      "INFO: Epoch: 187/1000, Train Loss=0.4229040274, Val Loss=0.4191385195\n",
      "INFO: Epoch: 188/1000, Train Loss=0.4131056561, Val Loss=0.4140971246\n",
      "INFO: Epoch: 189/1000, Train Loss=0.4151813119, Val Loss=0.4118895673\n",
      "INFO: Epoch: 190/1000, Train Loss=0.4207888877, Val Loss=0.4084063172\n",
      "INFO: Epoch: 191/1000, Train Loss=0.4125914772, Val Loss=0.4227219479\n",
      "INFO: Epoch: 192/1000, Train Loss=0.4142433545, Val Loss=0.4159021179\n",
      "INFO: Epoch: 193/1000, Train Loss=0.4193377331, Val Loss=0.4165636017\n",
      "INFO: Epoch: 194/1000, Train Loss=0.4091592022, Val Loss=0.4039557236\n",
      "INFO: Epoch: 195/1000, Train Loss=0.4143098488, Val Loss=0.4144836522\n",
      "INFO: Epoch: 196/1000, Train Loss=0.4194500002, Val Loss=0.4188246159\n",
      "INFO: Epoch: 197/1000, Train Loss=0.4115605483, Val Loss=0.3879650803\n",
      "INFO: Epoch: 198/1000, Train Loss=0.4109213668, Val Loss=0.4057960453\n",
      "INFO: Epoch: 199/1000, Train Loss=0.4105954509, Val Loss=0.4124489427\n",
      "INFO: Epoch: 200/1000, Train Loss=0.4101209827, Val Loss=0.4072701051\n",
      "INFO: Saving checkpoint model: epoch 199\n",
      "INFO: Epoch: 201/1000, Train Loss=0.40839012, Val Loss=0.4164076731\n",
      "INFO: Epoch: 202/1000, Train Loss=0.407242782, Val Loss=0.4036289425\n",
      "INFO: Epoch: 203/1000, Train Loss=0.4098444324, Val Loss=0.402194974\n",
      "INFO: Epoch: 204/1000, Train Loss=0.4079638404, Val Loss=0.4016680348\n",
      "INFO: Epoch: 205/1000, Train Loss=0.40331156, Val Loss=0.403740372\n",
      "INFO: Epoch: 206/1000, Train Loss=0.411400532, Val Loss=0.4120564376\n",
      "INFO: Epoch: 207/1000, Train Loss=0.4085039742, Val Loss=0.4053211808\n",
      "INFO: Epoch: 208/1000, Train Loss=0.4057162357, Val Loss=0.3867185456\n",
      "INFO: Epoch: 209/1000, Train Loss=0.4080670979, Val Loss=0.3935091921\n",
      "INFO: Epoch: 210/1000, Train Loss=0.4037034196, Val Loss=0.4111158195\n",
      "INFO: Epoch: 211/1000, Train Loss=0.4011390572, Val Loss=0.4089949926\n",
      "INFO: Epoch: 212/1000, Train Loss=0.4030874021, Val Loss=0.4048460836\n",
      "INFO: Epoch: 213/1000, Train Loss=0.4014177883, Val Loss=0.4040062115\n",
      "INFO: Epoch: 214/1000, Train Loss=0.3999450779, Val Loss=0.3957376594\n",
      "INFO: Epoch: 215/1000, Train Loss=0.4028826227, Val Loss=0.4148166038\n",
      "INFO: Epoch: 216/1000, Train Loss=0.3981368939, Val Loss=0.3998905108\n",
      "INFO: Epoch: 217/1000, Train Loss=0.401531625, Val Loss=0.3948906972\n",
      "INFO: Epoch: 218/1000, Train Loss=0.3997861065, Val Loss=0.4018294414\n",
      "INFO: Epoch: 219/1000, Train Loss=0.395220919, Val Loss=0.4042255453\n",
      "INFO: Epoch: 220/1000, Train Loss=0.3966341019, Val Loss=0.3952935537\n",
      "INFO: Epoch: 221/1000, Train Loss=0.3940096392, Val Loss=0.4000646188\n",
      "INFO: Epoch: 222/1000, Train Loss=0.4005010736, Val Loss=0.4077827533\n",
      "INFO: Epoch: 223/1000, Train Loss=0.3937415072, Val Loss=0.3854519583\n",
      "INFO: Epoch: 224/1000, Train Loss=0.3951220921, Val Loss=0.3944964466\n",
      "INFO: Epoch: 225/1000, Train Loss=0.3946362629, Val Loss=0.390266461\n",
      "INFO: Epoch: 226/1000, Train Loss=0.3879773687, Val Loss=0.3905491573\n",
      "INFO: Epoch: 227/1000, Train Loss=0.3951023069, Val Loss=0.3942340698\n",
      "INFO: Epoch: 228/1000, Train Loss=0.3915680051, Val Loss=0.3958402106\n",
      "INFO: Epoch: 229/1000, Train Loss=0.3928191498, Val Loss=0.3879342675\n",
      "INFO: Epoch: 230/1000, Train Loss=0.3969167903, Val Loss=0.3986409136\n",
      "INFO: Epoch: 231/1000, Train Loss=0.3922590251, Val Loss=0.3965845222\n",
      "INFO: Epoch: 232/1000, Train Loss=0.3892068325, Val Loss=0.4000303121\n",
      "INFO: Epoch: 233/1000, Train Loss=0.3934562849, Val Loss=0.3895487814\n",
      "INFO: Epoch: 234/1000, Train Loss=0.3811046972, Val Loss=0.3776965113\n",
      "INFO: Epoch: 235/1000, Train Loss=0.3949967494, Val Loss=0.3895159988\n",
      "INFO: Epoch: 236/1000, Train Loss=0.3882856392, Val Loss=0.38919448\n",
      "INFO: Epoch: 237/1000, Train Loss=0.3887500927, Val Loss=0.4052213799\n",
      "INFO: Epoch: 238/1000, Train Loss=0.387554254, Val Loss=0.4057563799\n",
      "INFO: Epoch: 239/1000, Train Loss=0.386154952, Val Loss=0.401800431\n",
      "INFO: Epoch: 240/1000, Train Loss=0.3860958172, Val Loss=0.3995804758\n",
      "INFO: Epoch: 241/1000, Train Loss=0.3863285067, Val Loss=0.3884534524\n",
      "INFO: Epoch: 242/1000, Train Loss=0.3810755108, Val Loss=0.3946981629\n",
      "INFO: Epoch: 243/1000, Train Loss=0.3887708433, Val Loss=0.3768856554\n",
      "INFO: Epoch: 244/1000, Train Loss=0.3856539317, Val Loss=0.3902536233\n",
      "INFO: Epoch: 245/1000, Train Loss=0.388622901, Val Loss=0.3807221538\n",
      "INFO: Epoch: 246/1000, Train Loss=0.3853919342, Val Loss=0.3801846561\n",
      "INFO: Epoch: 247/1000, Train Loss=0.3839807394, Val Loss=0.3776194993\n",
      "INFO: Epoch: 248/1000, Train Loss=0.3864182245, Val Loss=0.3829409849\n",
      "INFO: Epoch: 249/1000, Train Loss=0.3831479491, Val Loss=0.3774227812\n",
      "INFO: Epoch: 250/1000, Train Loss=0.3829203867, Val Loss=0.3796520517\n",
      "INFO: Epoch: 251/1000, Train Loss=0.37762265, Val Loss=0.3707182095\n",
      "INFO: Epoch: 252/1000, Train Loss=0.3798554224, Val Loss=0.3891318866\n",
      "INFO: Epoch: 253/1000, Train Loss=0.3802528884, Val Loss=0.3933296743\n",
      "INFO: Epoch: 254/1000, Train Loss=0.3834239326, Val Loss=0.3852720374\n",
      "INFO: Epoch: 255/1000, Train Loss=0.3749484619, Val Loss=0.3793883153\n",
      "INFO: Epoch: 256/1000, Train Loss=0.3786051846, Val Loss=0.4013919007\n",
      "INFO: Epoch: 257/1000, Train Loss=0.3795942021, Val Loss=0.3690295446\n",
      "INFO: Epoch: 258/1000, Train Loss=0.3800811896, Val Loss=0.3749450559\n",
      "INFO: Epoch: 259/1000, Train Loss=0.3813867382, Val Loss=0.379846377\n",
      "INFO: Epoch: 260/1000, Train Loss=0.3768797073, Val Loss=0.3945556567\n",
      "INFO: Epoch: 261/1000, Train Loss=0.3731737113, Val Loss=0.3687030985\n",
      "INFO: Epoch: 262/1000, Train Loss=0.3728350845, Val Loss=0.3905994495\n",
      "INFO: Epoch: 263/1000, Train Loss=0.3774232198, Val Loss=0.3662537847\n",
      "INFO: Early Stopping\n",
      "INFO: Saving final model\n",
      "CPU times: user 1d 6h 22min 52s, sys: 8h 16min 35s, total: 1d 14h 39min 28s\n",
      "Wall time: 19h 34min 28s\n"
     ]
    }
   ],
   "source": [
    "%%time\n",
    "model = trainer.train()"
   ],
   "metadata": {
    "collapsed": false,
    "ExecuteTime": {
     "end_time": "2023-08-11T14:02:49.354042090Z",
     "start_time": "2023-08-10T18:28:20.853390536Z"
    }
   },
   "id": "517dd6df7bbe6284"
  },
  {
   "cell_type": "markdown",
   "source": [
    "Plot Training and Validation loss among epochs.Model"
   ],
   "metadata": {
    "collapsed": false
   },
   "id": "b29daaceab54361a"
  },
  {
   "cell_type": "code",
   "execution_count": 11,
   "outputs": [
    {
     "data": {
      "text/plain": "<Figure size 640x480 with 1 Axes>",
      "image/png": "[encoded data removed]"
     },
     "metadata": {},
     "output_type": "display_data"
    }
   ],
   "source": [
    "trainer.plot_loss()"
   ],
   "metadata": {
    "collapsed": false,
    "ExecuteTime": {
     "end_time": "2023-08-11T14:02:50.205918505Z",
     "start_time": "2023-08-11T14:02:49.353408819Z"
    }
   },
   "id": "e954e2744f9892ac"
  }
 ],
 "metadata": {
  "kernelspec": {
   "display_name": "Python 3",
   "language": "python",
   "name": "python3"
  },
  "language_info": {
   "codemirror_mode": {
    "name": "ipython",
    "version": 2
   },
   "file_extension": ".py",
   "mimetype": "text/x-python",
   "name": "python",
   "nbconvert_exporter": "python",
   "pygments_lexer": "ipython2",
   "version": "2.7.6"
  }
 },
 "nbformat": 4,
 "nbformat_minor": 5
}
