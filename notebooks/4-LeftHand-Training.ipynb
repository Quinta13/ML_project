{
 "cells": [
  {
   "cell_type": "code",
   "execution_count": 1,
   "outputs": [],
   "source": [
    "%load_ext autoreload\n",
    "%autoreload 2"
   ],
   "metadata": {
    "collapsed": false,
    "ExecuteTime": {
     "end_time": "2023-08-17T12:15:16.133477682Z",
     "start_time": "2023-08-17T12:15:16.120450072Z"
    }
   },
   "id": "b00cdaaa114ffd6d"
  },
  {
   "cell_type": "markdown",
   "source": [
    "# Training the Left-Right Hand Classifier Model"
   ],
   "metadata": {
    "collapsed": false
   },
   "id": "2abcf7da878e0b2b"
  },
  {
   "cell_type": "markdown",
   "source": [
    "## 1. Creating Datasets"
   ],
   "metadata": {
    "collapsed": false
   },
   "id": "387462a107984112"
  },
  {
   "cell_type": "code",
   "execution_count": 2,
   "outputs": [],
   "source": [
    "from model.left_hand import FreiHANDLeftHandDataset, FreiHANDLeftHandDataLoader\n",
    "from settings import LEFT_RIGHT_MODEL_CONFIG"
   ],
   "metadata": {
    "collapsed": false,
    "ExecuteTime": {
     "end_time": "2023-08-17T12:15:18.639973819Z",
     "start_time": "2023-08-17T12:15:16.884303753Z"
    }
   },
   "id": "a285fe899ae8f39f"
  },
  {
   "cell_type": "markdown",
   "source": [
    "Loading Training set."
   ],
   "metadata": {
    "collapsed": false
   },
   "id": "649de06f1dd3689e"
  },
  {
   "cell_type": "code",
   "execution_count": 3,
   "outputs": [
    {
     "data": {
      "text/plain": "FreiHAND [Train - 26000 items]"
     },
     "execution_count": 3,
     "metadata": {},
     "output_type": "execute_result"
    }
   ],
   "source": [
    "train_dataset = FreiHANDLeftHandDataset(set_type=\"train\")\n",
    "train_dataset"
   ],
   "metadata": {
    "collapsed": false,
    "ExecuteTime": {
     "end_time": "2023-08-17T12:15:19.891696615Z",
     "start_time": "2023-08-17T12:15:18.644415826Z"
    }
   },
   "id": "95cb6c6bc8f7cd19"
  },
  {
   "cell_type": "code",
   "execution_count": 4,
   "outputs": [
    {
     "data": {
      "text/plain": "FreiHANDDataLoader [Train - Batch size: 48 - Length: 541]"
     },
     "execution_count": 4,
     "metadata": {},
     "output_type": "execute_result"
    }
   ],
   "source": [
    "train_dataloader = FreiHANDLeftHandDataLoader(\n",
    "    dataset=train_dataset,\n",
    "    batch_size=LEFT_RIGHT_MODEL_CONFIG[\"batch_size\"],\n",
    "    shuffle=True,\n",
    "    drop_last=True,\n",
    "    num_workers=2\n",
    ")\n",
    "train_dataloader"
   ],
   "metadata": {
    "collapsed": false,
    "ExecuteTime": {
     "end_time": "2023-08-17T12:15:20.439132819Z",
     "start_time": "2023-08-17T12:15:20.405935435Z"
    }
   },
   "id": "36e76641e0d765e"
  },
  {
   "cell_type": "markdown",
   "source": [
    "Loading Validation set."
   ],
   "metadata": {
    "collapsed": false
   },
   "id": "987755d69696ddbc"
  },
  {
   "cell_type": "code",
   "execution_count": 5,
   "outputs": [
    {
     "data": {
      "text/plain": "FreiHAND [Val - 5000 items]"
     },
     "execution_count": 5,
     "metadata": {},
     "output_type": "execute_result"
    }
   ],
   "source": [
    "val_dataset = FreiHANDLeftHandDataset(set_type=\"val\")\n",
    "val_dataset"
   ],
   "metadata": {
    "collapsed": false,
    "ExecuteTime": {
     "end_time": "2023-08-17T12:15:22.466505298Z",
     "start_time": "2023-08-17T12:15:21.027077074Z"
    }
   },
   "id": "f8185730be664e49"
  },
  {
   "cell_type": "code",
   "execution_count": 6,
   "outputs": [
    {
     "data": {
      "text/plain": "FreiHANDDataLoader [Val - Batch size: 48 - Length: 104]"
     },
     "execution_count": 6,
     "metadata": {},
     "output_type": "execute_result"
    }
   ],
   "source": [
    "val_dataloader = FreiHANDLeftHandDataLoader(\n",
    "    dataset=val_dataset,\n",
    "    batch_size=LEFT_RIGHT_MODEL_CONFIG[\"batch_size\"],\n",
    "    shuffle=True,\n",
    "    drop_last=True,\n",
    "    num_workers=2\n",
    ")\n",
    "val_dataloader"
   ],
   "metadata": {
    "collapsed": false,
    "ExecuteTime": {
     "end_time": "2023-08-17T12:15:22.983417392Z",
     "start_time": "2023-08-17T12:15:22.953016273Z"
    }
   },
   "id": "cc79da240f7ba1be"
  },
  {
   "cell_type": "markdown",
   "source": [
    "## 2. Model and Loss"
   ],
   "metadata": {
    "collapsed": false
   },
   "id": "bd24e1c593a8bf24"
  },
  {
   "cell_type": "markdown",
   "source": [
    "Generating the NeuralNetwork."
   ],
   "metadata": {
    "collapsed": false
   },
   "id": "e6bc80433d2c6030"
  },
  {
   "cell_type": "code",
   "execution_count": 7,
   "outputs": [],
   "source": [
    "from model.left_hand import AlexNet"
   ],
   "metadata": {
    "collapsed": false,
    "ExecuteTime": {
     "end_time": "2023-08-17T12:15:25.043309624Z",
     "start_time": "2023-08-17T12:15:24.969991234Z"
    }
   },
   "id": "bbaa4b2bd7620b8a"
  },
  {
   "cell_type": "code",
   "execution_count": 8,
   "outputs": [
    {
     "data": {
      "text/plain": "AlexNet(\n  (layer1): Sequential(\n    (0): Conv2d(3, 96, kernel_size=(11, 11), stride=(4, 4))\n    (1): BatchNorm2d(96, eps=1e-05, momentum=0.1, affine=True, track_running_stats=True)\n    (2): ReLU()\n    (3): MaxPool2d(kernel_size=3, stride=2, padding=0, dilation=1, ceil_mode=False)\n  )\n  (layer2): Sequential(\n    (0): Conv2d(96, 256, kernel_size=(5, 5), stride=(1, 1), padding=(2, 2))\n    (1): BatchNorm2d(256, eps=1e-05, momentum=0.1, affine=True, track_running_stats=True)\n    (2): ReLU()\n    (3): MaxPool2d(kernel_size=3, stride=2, padding=0, dilation=1, ceil_mode=False)\n  )\n  (layer3): Sequential(\n    (0): Conv2d(256, 384, kernel_size=(3, 3), stride=(1, 1), padding=(1, 1))\n    (1): BatchNorm2d(384, eps=1e-05, momentum=0.1, affine=True, track_running_stats=True)\n    (2): ReLU()\n  )\n  (layer4): Sequential(\n    (0): Conv2d(384, 384, kernel_size=(3, 3), stride=(1, 1), padding=(1, 1))\n    (1): BatchNorm2d(384, eps=1e-05, momentum=0.1, affine=True, track_running_stats=True)\n    (2): ReLU()\n  )\n  (layer5): Sequential(\n    (0): Conv2d(384, 256, kernel_size=(3, 3), stride=(1, 1), padding=(1, 1))\n    (1): BatchNorm2d(256, eps=1e-05, momentum=0.1, affine=True, track_running_stats=True)\n    (2): ReLU()\n    (3): MaxPool2d(kernel_size=3, stride=2, padding=0, dilation=1, ceil_mode=False)\n  )\n  (fc): Sequential(\n    (0): Dropout(p=0.5, inplace=False)\n    (1): Linear(in_features=9216, out_features=4096, bias=True)\n    (2): ReLU()\n  )\n  (fc1): Sequential(\n    (0): Dropout(p=0.5, inplace=False)\n    (1): Linear(in_features=4096, out_features=4096, bias=True)\n    (2): ReLU()\n  )\n  (fc2): Sequential(\n    (0): Linear(in_features=4096, out_features=2, bias=True)\n  )\n)"
     },
     "execution_count": 8,
     "metadata": {},
     "output_type": "execute_result"
    }
   ],
   "source": [
    "model = AlexNet(num_classes=2)\n",
    "model"
   ],
   "metadata": {
    "collapsed": false,
    "ExecuteTime": {
     "end_time": "2023-08-17T12:15:26.180908272Z",
     "start_time": "2023-08-17T12:15:25.540178171Z"
    }
   },
   "id": "8b79a4bcc94fa430"
  },
  {
   "cell_type": "markdown",
   "source": [
    "Generating the Loss"
   ],
   "metadata": {
    "collapsed": false
   },
   "id": "179d334cc72274c4"
  },
  {
   "cell_type": "code",
   "execution_count": 9,
   "outputs": [
    {
     "data": {
      "text/plain": "CrossEntropyLoss()"
     },
     "execution_count": 9,
     "metadata": {},
     "output_type": "execute_result"
    }
   ],
   "source": [
    "from torch import nn\n",
    "\n",
    "loss = nn.CrossEntropyLoss()\n",
    "loss"
   ],
   "metadata": {
    "collapsed": false,
    "ExecuteTime": {
     "end_time": "2023-08-17T12:15:27.100150321Z",
     "start_time": "2023-08-17T12:15:26.981743323Z"
    }
   },
   "id": "83741b2505a56457"
  },
  {
   "cell_type": "markdown",
   "source": [
    "## 3. Training"
   ],
   "metadata": {
    "collapsed": false
   },
   "id": "764a0e317639f94f"
  },
  {
   "cell_type": "markdown",
   "source": [
    "Creating configuration file:"
   ],
   "metadata": {
    "collapsed": false
   },
   "id": "558b9ae863068e8e"
  },
  {
   "cell_type": "code",
   "execution_count": 10,
   "outputs": [],
   "source": [
    "config = {\n",
    "    \"device\": LEFT_RIGHT_MODEL_CONFIG[\"device\"],\n",
    "    \"epochs\": LEFT_RIGHT_MODEL_CONFIG[\"epochs\"],\n",
    "    \"batches_per_epoch\": LEFT_RIGHT_MODEL_CONFIG[\"batches_per_epoch\"],\n",
    "    \"batches_per_epoch_val\": LEFT_RIGHT_MODEL_CONFIG[\"batches_per_epoch_val\"],\n",
    "    \"learning_rate\": LEFT_RIGHT_MODEL_CONFIG[\"learning_rate\"],\n",
    "    \"model_name\": LEFT_RIGHT_MODEL_CONFIG[\"model_name\"],\n",
    "    \"X_name\": \"image\",\n",
    "    \"y_name\": \"left\"\n",
    "}"
   ],
   "metadata": {
    "collapsed": false,
    "ExecuteTime": {
     "end_time": "2023-08-17T12:15:28.357404101Z",
     "start_time": "2023-08-17T12:15:28.256634484Z"
    }
   },
   "id": "6ca582c7b906fb1c"
  },
  {
   "cell_type": "markdown",
   "source": [
    "Generating the trainer."
   ],
   "metadata": {
    "collapsed": false
   },
   "id": "6696ecb59d63487a"
  },
  {
   "cell_type": "code",
   "execution_count": 11,
   "outputs": [
    {
     "data": {
      "text/plain": "Trainer [Epochs: 1000; Batches per Epoch: 50; Batches per Epoch Validation: 20]"
     },
     "execution_count": 11,
     "metadata": {},
     "output_type": "execute_result"
    }
   ],
   "source": [
    "from model.trainer import Trainer\n",
    "\n",
    "trainer = Trainer(\n",
    "    model=model,\n",
    "    criterion=loss,\n",
    "    train_dataloader=train_dataloader,\n",
    "    val_dataloader=val_dataloader,\n",
    "    config=config\n",
    ")\n",
    "trainer"
   ],
   "metadata": {
    "collapsed": false,
    "ExecuteTime": {
     "end_time": "2023-08-17T12:15:29.007690623Z",
     "start_time": "2023-08-17T12:15:28.941546411Z"
    }
   },
   "id": "e13d563d74da7f77"
  },
  {
   "cell_type": "markdown",
   "source": [
    "Evaluating the model."
   ],
   "metadata": {
    "collapsed": false
   },
   "id": "4279f8cf0699441f"
  },
  {
   "cell_type": "code",
   "execution_count": 12,
   "outputs": [
    {
     "name": "stdout",
     "output_type": "stream",
     "text": [
      "INFO: Epoch: 1/1000, Train Loss=2.3996675879, Val Loss=0.6729619418\n",
      "INFO: Epoch: 2/1000, Train Loss=0.6880068604, Val Loss=0.6519532573\n",
      "INFO: Epoch: 3/1000, Train Loss=0.6536425375, Val Loss=0.6560593389\n",
      "INFO: Epoch: 4/1000, Train Loss=0.6102549743, Val Loss=0.571775865\n",
      "INFO: Epoch: 5/1000, Train Loss=0.5620342996, Val Loss=0.5350460623\n",
      "INFO: Epoch: 6/1000, Train Loss=0.5478327461, Val Loss=0.5688828173\n",
      "INFO: Epoch: 7/1000, Train Loss=0.5465753248, Val Loss=0.6019038246\n",
      "INFO: Epoch: 8/1000, Train Loss=0.496782785, Val Loss=0.4717835003\n",
      "INFO: Epoch: 9/1000, Train Loss=0.5029690938, Val Loss=0.4473042843\n",
      "INFO: Epoch: 10/1000, Train Loss=0.4507197866, Val Loss=0.4353349436\n",
      "INFO: Epoch: 11/1000, Train Loss=0.4375605948, Val Loss=0.5387552664\n",
      "INFO: Epoch: 12/1000, Train Loss=0.4144499635, Val Loss=0.5587852455\n",
      "INFO: Epoch: 13/1000, Train Loss=0.4066334384, Val Loss=0.3398662706\n",
      "INFO: Epoch: 14/1000, Train Loss=0.3983090348, Val Loss=0.3977177597\n",
      "INFO: Epoch: 15/1000, Train Loss=0.393044877, Val Loss=0.3403975651\n",
      "INFO: Epoch: 16/1000, Train Loss=0.3635425401, Val Loss=0.3926429003\n",
      "INFO: Epoch: 17/1000, Train Loss=0.3583582464, Val Loss=0.2880147305\n",
      "INFO: Epoch: 18/1000, Train Loss=0.3540358304, Val Loss=0.3838981603\n",
      "INFO: Epoch: 19/1000, Train Loss=0.3337544515, Val Loss=0.3543307057\n",
      "INFO: Epoch: 20/1000, Train Loss=0.3331435589, Val Loss=0.3514776769\n",
      "INFO: Epoch: 21/1000, Train Loss=0.3158458509, Val Loss=0.4804936477\n",
      "INFO: Epoch: 22/1000, Train Loss=0.3232872571, Val Loss=0.3511891301\n",
      "INFO: Epoch: 23/1000, Train Loss=0.3058172847, Val Loss=0.2823098742\n",
      "INFO: Early Stopping\n",
      "INFO: Saving final model\n",
      "CPU times: user 2h 19min 16s, sys: 12min 13s, total: 2h 31min 29s\n",
      "Wall time: 1h 17min 46s\n"
     ]
    }
   ],
   "source": [
    "%%time\n",
    "model = trainer.train()"
   ],
   "metadata": {
    "collapsed": false,
    "ExecuteTime": {
     "end_time": "2023-08-17T13:33:16.368884137Z",
     "start_time": "2023-08-17T12:15:30.176730021Z"
    }
   },
   "id": "dec386eb40ac5ff0"
  },
  {
   "cell_type": "markdown",
   "source": [
    "Plot Training and Validation loss among epochs.Model"
   ],
   "metadata": {
    "collapsed": false
   },
   "id": "e475e1b46a9496d1"
  },
  {
   "cell_type": "code",
   "execution_count": 13,
   "outputs": [
    {
     "data": {
      "text/plain": "<Figure size 640x480 with 1 Axes>",
      "image/png": "[encoded data removed]"
     },
     "metadata": {},
     "output_type": "display_data"
    }
   ],
   "source": [
    "trainer.plot_loss()"
   ],
   "metadata": {
    "collapsed": false,
    "ExecuteTime": {
     "end_time": "2023-08-17T13:33:16.902264214Z",
     "start_time": "2023-08-17T13:33:16.382909698Z"
    }
   },
   "id": "34ab78a85ceefdd1"
  }
 ],
 "metadata": {
  "kernelspec": {
   "display_name": "Python 3",
   "language": "python",
   "name": "python3"
  },
  "language_info": {
   "codemirror_mode": {
    "name": "ipython",
    "version": 2
   },
   "file_extension": ".py",
   "mimetype": "text/x-python",
   "name": "python",
   "nbconvert_exporter": "python",
   "pygments_lexer": "ipython2",
   "version": "2.7.6"
  }
 },
 "nbformat": 4,
 "nbformat_minor": 5
}
