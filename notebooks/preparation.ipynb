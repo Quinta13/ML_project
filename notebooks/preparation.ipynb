{
 "cells": [
  {
   "cell_type": "markdown",
   "source": [
    "# 1. Data Download"
   ],
   "metadata": {
    "collapsed": false
   },
   "id": "13bc4c33c52a3451"
  },
  {
   "cell_type": "markdown",
   "source": [
    "Download [FreiHAND](https://github.com/lmb-freiburg/freihand) dataset."
   ],
   "metadata": {
    "collapsed": false
   },
   "id": "f97c532606b4f76b"
  },
  {
   "cell_type": "code",
   "execution_count": null,
   "outputs": [],
   "source": [
    "from model.prepare import FreiHANDDownloader\n",
    "\n",
    "downloader = FreiHANDDownloader()\n",
    "downloader"
   ],
   "metadata": {
    "collapsed": false,
    "is_executing": true,
    "ExecuteTime": {
     "start_time": "2023-08-06T15:23:42.923110345Z"
    }
   },
   "id": "3ddc160600aa81ce"
  },
  {
   "cell_type": "code",
   "execution_count": null,
   "outputs": [],
   "source": [
    "downloader.download()"
   ],
   "metadata": {
    "collapsed": false,
    "is_executing": true
   },
   "id": "8bcd6eebe178a395"
  },
  {
   "cell_type": "markdown",
   "source": [
    "# 2. Data Conversion"
   ],
   "metadata": {
    "collapsed": false
   },
   "id": "e62680b037343309"
  },
  {
   "cell_type": "markdown",
   "source": [
    "We use Camera and 3D points to convert to 2D points"
   ],
   "metadata": {
    "collapsed": false
   },
   "id": "482d1e9143e8ba8"
  },
  {
   "cell_type": "code",
   "execution_count": null,
   "outputs": [],
   "source": [
    "from model.prepare import FreiHAND2DConverter\n",
    "\n",
    "converter = FreiHAND2DConverter()\n",
    "converter"
   ],
   "metadata": {
    "collapsed": false,
    "is_executing": true
   },
   "id": "781d5392ded424de"
  },
  {
   "cell_type": "code",
   "execution_count": null,
   "outputs": [],
   "source": [
    "converter.convert_2d()"
   ],
   "metadata": {
    "collapsed": false,
    "is_executing": true
   },
   "id": "ea1185025fd4f800"
  },
  {
   "cell_type": "markdown",
   "source": [
    "Let's take a look to some example"
   ],
   "metadata": {
    "collapsed": false
   },
   "id": "4818b59aed5a8a74"
  },
  {
   "cell_type": "code",
   "execution_count": null,
   "outputs": [],
   "source": [
    "from model.hand import HandCollection\n",
    "\n",
    "collection = HandCollection()\n",
    "collection"
   ],
   "metadata": {
    "collapsed": false,
    "is_executing": true
   },
   "id": "ce65f1c751a3f79f"
  },
  {
   "cell_type": "code",
   "execution_count": null,
   "outputs": [],
   "source": [
    "display = 12\n",
    "hands = [collection.get_hand(idx=i) for i in range(display)]"
   ],
   "metadata": {
    "collapsed": false,
    "is_executing": true
   },
   "id": "ce2cceed18244507"
  },
  {
   "cell_type": "code",
   "execution_count": null,
   "outputs": [],
   "source": [
    "from utlis import plot_multiple_images\n",
    "\n",
    "plot_multiple_images([hand.image for hand in hands])"
   ],
   "metadata": {
    "collapsed": false,
    "is_executing": true
   },
   "id": "73eb06313028ddf"
  },
  {
   "cell_type": "markdown",
   "source": [
    "We also take a look to their skeleton"
   ],
   "metadata": {
    "collapsed": false
   },
   "id": "cf739844469a8afb"
  },
  {
   "cell_type": "code",
   "execution_count": null,
   "outputs": [],
   "source": [
    "plot_multiple_images([hand.skeleton for hand in hands])"
   ],
   "metadata": {
    "collapsed": false,
    "is_executing": true
   },
   "id": "9edb7afe9e0119f4"
  },
  {
   "cell_type": "markdown",
   "source": [
    "# 2. Data Preparation"
   ],
   "metadata": {
    "collapsed": false
   },
   "id": "654fd093f2c2292b"
  },
  {
   "cell_type": "markdown",
   "source": [
    "We convert:\n",
    "- images by applying mean-max scaling and Z-normalization\n",
    "- keypoints to heatmaps\n",
    "- we split in Training, Validation and Test"
   ],
   "metadata": {
    "collapsed": false
   },
   "id": "b54a271a87ce2303"
  },
  {
   "cell_type": "code",
   "execution_count": null,
   "outputs": [],
   "source": [
    "from model.prepare import DataPreprocessing\n",
    "from settings import TEST_PRC, VAL_PRC, TRAIN_PRC, DATA\n",
    "\n",
    "preparer = DataPreprocessing(data=DATA, train_prc=TRAIN_PRC,\n",
    "                             val_prc=VAL_PRC, test_prc=TEST_PRC, only_raw=True)\n",
    "preparer"
   ],
   "metadata": {
    "collapsed": false,
    "is_executing": true
   },
   "id": "3bb54529da1c3b2b"
  },
  {
   "cell_type": "code",
   "execution_count": null,
   "outputs": [],
   "source": [
    "preparer.prepare()"
   ],
   "metadata": {
    "collapsed": false,
    "is_executing": true
   },
   "id": "adcbe2539a44d4bb"
  },
  {
   "cell_type": "markdown",
   "source": [
    "Let's see some examples:"
   ],
   "metadata": {
    "collapsed": false
   },
   "id": "af14110ce575d434"
  },
  {
   "cell_type": "code",
   "execution_count": null,
   "outputs": [],
   "source": [
    "n_examples = 5\n",
    "\n",
    "for i in range(n_examples):\n",
    "    preparer.plot_item(idx=i)"
   ],
   "metadata": {
    "collapsed": false,
    "is_executing": true
   },
   "id": "3e80a04f56e3d03e"
  },
  {
   "cell_type": "markdown",
   "source": [
    "We save files locally."
   ],
   "metadata": {
    "collapsed": false
   },
   "id": "7efab3aa5934cdba"
  },
  {
   "cell_type": "code",
   "execution_count": null,
   "outputs": [],
   "source": [
    "preparer.save()"
   ],
   "metadata": {
    "collapsed": false,
    "is_executing": true
   },
   "id": "53fbe8fa44ad1c79"
  }
 ],
 "metadata": {
  "kernelspec": {
   "display_name": "Python 3",
   "language": "python",
   "name": "python3"
  },
  "language_info": {
   "codemirror_mode": {
    "name": "ipython",
    "version": 2
   },
   "file_extension": ".py",
   "mimetype": "text/x-python",
   "name": "python",
   "nbconvert_exporter": "python",
   "pygments_lexer": "ipython2",
   "version": "2.7.6"
  }
 },
 "nbformat": 4,
 "nbformat_minor": 5
}
